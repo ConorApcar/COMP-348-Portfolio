{
 "cells": [
  {
   "cell_type": "markdown",
   "metadata": {},
   "source": [
    "# Assignment 2 - Classification of Business Reviews\n",
    "\n",
    "**Submission deadline: Friday 27 April 2018, 11pm**\n",
    "\n",
    "**Penalty for late submission: 4 marks per day**\n",
    "\n",
    "**Assessment marks: 20 marks (20% of the total unit assessment)**\n",
    "\n",
    "**Conor Apcar - 4462 4336**"
   ]
  },
  {
   "cell_type": "markdown",
   "metadata": {},
   "source": [
    "The following code reads business reviews which are part of the [Yelp Dataset stored in Kaggle](https://www.kaggle.com/yelp-dataset/yelp-dataset). The data are stored in a CSV file. The following code reads the CSV file and prints the contents of the first 5 records:"
   ]
  },
  {
   "cell_type": "code",
   "execution_count": 1,
   "metadata": {},
   "outputs": [
    {
     "data": {
      "text/html": [
       "<div>\n",
       "<style>\n",
       "    .dataframe thead tr:only-child th {\n",
       "        text-align: right;\n",
       "    }\n",
       "\n",
       "    .dataframe thead th {\n",
       "        text-align: left;\n",
       "    }\n",
       "\n",
       "    .dataframe tbody tr th {\n",
       "        vertical-align: top;\n",
       "    }\n",
       "</style>\n",
       "<table border=\"1\" class=\"dataframe\">\n",
       "  <thead>\n",
       "    <tr style=\"text-align: right;\">\n",
       "      <th></th>\n",
       "      <th>review_id</th>\n",
       "      <th>user_id</th>\n",
       "      <th>business_id</th>\n",
       "      <th>stars</th>\n",
       "      <th>date</th>\n",
       "      <th>text</th>\n",
       "      <th>useful</th>\n",
       "      <th>funny</th>\n",
       "      <th>cool</th>\n",
       "    </tr>\n",
       "  </thead>\n",
       "  <tbody>\n",
       "    <tr>\n",
       "      <th>0</th>\n",
       "      <td>vkVSCC7xljjrAI4UGfnKEQ</td>\n",
       "      <td>bv2nCi5Qv5vroFiqKGopiw</td>\n",
       "      <td>AEx2SYEUJmTxVVB18LlCwA</td>\n",
       "      <td>5</td>\n",
       "      <td>2016-05-28</td>\n",
       "      <td>Super simple place but amazing nonetheless. It...</td>\n",
       "      <td>0</td>\n",
       "      <td>0</td>\n",
       "      <td>0</td>\n",
       "    </tr>\n",
       "    <tr>\n",
       "      <th>1</th>\n",
       "      <td>n6QzIUObkYshz4dz2QRJTw</td>\n",
       "      <td>bv2nCi5Qv5vroFiqKGopiw</td>\n",
       "      <td>VR6GpWIda3SfvPC-lg9H3w</td>\n",
       "      <td>5</td>\n",
       "      <td>2016-05-28</td>\n",
       "      <td>Small unassuming place that changes their menu...</td>\n",
       "      <td>0</td>\n",
       "      <td>0</td>\n",
       "      <td>0</td>\n",
       "    </tr>\n",
       "    <tr>\n",
       "      <th>2</th>\n",
       "      <td>MV3CcKScW05u5LVfF6ok0g</td>\n",
       "      <td>bv2nCi5Qv5vroFiqKGopiw</td>\n",
       "      <td>CKC0-MOWMqoeWf6s-szl8g</td>\n",
       "      <td>5</td>\n",
       "      <td>2016-05-28</td>\n",
       "      <td>Lester's is located in a beautiful neighborhoo...</td>\n",
       "      <td>0</td>\n",
       "      <td>0</td>\n",
       "      <td>0</td>\n",
       "    </tr>\n",
       "    <tr>\n",
       "      <th>3</th>\n",
       "      <td>IXvOzsEMYtiJI0CARmj77Q</td>\n",
       "      <td>bv2nCi5Qv5vroFiqKGopiw</td>\n",
       "      <td>ACFtxLv8pGrrxMm6EgjreA</td>\n",
       "      <td>4</td>\n",
       "      <td>2016-05-28</td>\n",
       "      <td>Love coming here. Yes the place always needs t...</td>\n",
       "      <td>0</td>\n",
       "      <td>0</td>\n",
       "      <td>0</td>\n",
       "    </tr>\n",
       "    <tr>\n",
       "      <th>4</th>\n",
       "      <td>L_9BTb55X0GDtThi6GlZ6w</td>\n",
       "      <td>bv2nCi5Qv5vroFiqKGopiw</td>\n",
       "      <td>s2I_Ni76bjJNK9yG60iD-Q</td>\n",
       "      <td>4</td>\n",
       "      <td>2016-05-28</td>\n",
       "      <td>Had their chocolate almond croissant and it wa...</td>\n",
       "      <td>0</td>\n",
       "      <td>0</td>\n",
       "      <td>0</td>\n",
       "    </tr>\n",
       "  </tbody>\n",
       "</table>\n",
       "</div>"
      ],
      "text/plain": [
       "                review_id                 user_id             business_id  \\\n",
       "0  vkVSCC7xljjrAI4UGfnKEQ  bv2nCi5Qv5vroFiqKGopiw  AEx2SYEUJmTxVVB18LlCwA   \n",
       "1  n6QzIUObkYshz4dz2QRJTw  bv2nCi5Qv5vroFiqKGopiw  VR6GpWIda3SfvPC-lg9H3w   \n",
       "2  MV3CcKScW05u5LVfF6ok0g  bv2nCi5Qv5vroFiqKGopiw  CKC0-MOWMqoeWf6s-szl8g   \n",
       "3  IXvOzsEMYtiJI0CARmj77Q  bv2nCi5Qv5vroFiqKGopiw  ACFtxLv8pGrrxMm6EgjreA   \n",
       "4  L_9BTb55X0GDtThi6GlZ6w  bv2nCi5Qv5vroFiqKGopiw  s2I_Ni76bjJNK9yG60iD-Q   \n",
       "\n",
       "   stars        date                                               text  \\\n",
       "0      5  2016-05-28  Super simple place but amazing nonetheless. It...   \n",
       "1      5  2016-05-28  Small unassuming place that changes their menu...   \n",
       "2      5  2016-05-28  Lester's is located in a beautiful neighborhoo...   \n",
       "3      4  2016-05-28  Love coming here. Yes the place always needs t...   \n",
       "4      4  2016-05-28  Had their chocolate almond croissant and it wa...   \n",
       "\n",
       "   useful  funny  cool  \n",
       "0       0      0     0  \n",
       "1       0      0     0  \n",
       "2       0      0     0  \n",
       "3       0      0     0  \n",
       "4       0      0     0  "
      ]
     },
     "execution_count": 1,
     "metadata": {},
     "output_type": "execute_result"
    }
   ],
   "source": [
    "import pandas as pd\n",
    "pd_data = pd.read_csv('yelp_review.zip')\n",
    "pd_data[:5]"
   ]
  },
  {
   "cell_type": "markdown",
   "metadata": {},
   "source": [
    "From the data, we will only use the reviews and the star rating. The following code extracts this information and places it in a list of pairs:"
   ]
  },
  {
   "cell_type": "code",
   "execution_count": 2,
   "metadata": {
    "collapsed": true
   },
   "outputs": [],
   "source": [
    "all_data = list(zip(pd_data['text'], pd_data['stars']))"
   ]
  },
  {
   "cell_type": "code",
   "execution_count": 3,
   "metadata": {},
   "outputs": [
    {
     "data": {
      "text/plain": [
       "5261668"
      ]
     },
     "execution_count": 3,
     "metadata": {},
     "output_type": "execute_result"
    }
   ],
   "source": [
    "len(all_data)"
   ]
  },
  {
   "cell_type": "code",
   "execution_count": 4,
   "metadata": {},
   "outputs": [
    {
     "data": {
      "text/plain": [
       "[(\"Super simple place but amazing nonetheless. It's been around since the 30's and they still serve the same thing they started with: a bologna and salami sandwich with mustard. \\n\\nStaff was very helpful and friendly.\",\n",
       "  5),\n",
       " (\"Small unassuming place that changes their menu every so often. Cool decor and vibe inside their 30 seat restaurant. Call for a reservation. \\n\\nWe had their beef tartar and pork belly to start and a salmon dish and lamb meal for mains. Everything was incredible! I could go on at length about how all the listed ingredients really make their dishes amazing but honestly you just need to go. \\n\\nA bit outside of downtown montreal but take the metro out and it's less than a 10 minute walk from the station.\",\n",
       "  5),\n",
       " (\"Lester's is located in a beautiful neighborhood and has been there since 1951. They are known for smoked meat which most deli's have but their brisket sandwich is what I come to montreal for. They've got about 12 seats outside to go along with the inside. \\n\\nThe smoked meat is up there in quality and taste with Schwartz's and you'll find less tourists at Lester's as well.\",\n",
       "  5),\n",
       " (\"Love coming here. Yes the place always needs the floor swept but when you give out  peanuts in the shell how won't it always be a bit dirty. \\n\\nThe food speaks for itself, so good. Burgers are made to order and the meat is put on the grill when you order your sandwich. Getting the small burger just means 1 patty, the regular is a 2 patty burger which is twice the deliciousness. \\n\\nGetting the Cajun fries adds a bit of spice to them and whatever size you order they always throw more fries (a lot more fries) into the bag.\",\n",
       "  4),\n",
       " (\"Had their chocolate almond croissant and it was amazing! So light and buttery and oh my how chocolaty.\\n\\nIf you're looking for a light breakfast then head out here. Perfect spot for a coffee\\\\/latté before heading out to the old port\",\n",
       "  4)]"
      ]
     },
     "execution_count": 4,
     "metadata": {},
     "output_type": "execute_result"
    }
   ],
   "source": [
    "all_data[:5]"
   ]
  },
  {
   "cell_type": "markdown",
   "metadata": {},
   "source": [
    "Let's now check the distribution of star ratings:"
   ]
  },
  {
   "cell_type": "code",
   "execution_count": 5,
   "metadata": {
    "collapsed": true
   },
   "outputs": [],
   "source": [
    "%matplotlib inline\n",
    "from matplotlib import pyplot as plt"
   ]
  },
  {
   "cell_type": "code",
   "execution_count": 6,
   "metadata": {},
   "outputs": [
    {
     "data": {
      "text/plain": [
       "Counter({1: 731363, 2: 438161, 3: 615481, 4: 1223316, 5: 2253347})"
      ]
     },
     "execution_count": 6,
     "metadata": {},
     "output_type": "execute_result"
    }
   ],
   "source": [
    "from collections import Counter\n",
    "c = Counter([rating for text, rating in all_data])\n",
    "c"
   ]
  },
  {
   "cell_type": "code",
   "execution_count": 7,
   "metadata": {},
   "outputs": [
    {
     "data": {
      "text/plain": [
       "<Container object of 5 artists>"
      ]
     },
     "execution_count": 7,
     "metadata": {},
     "output_type": "execute_result"
    },
    {
     "data": {
      "image/png": "[encoded data removed]",
      "text/plain": [
       "<matplotlib.figure.Figure at 0x1c48ab6d8>"
      ]
     },
     "metadata": {},
     "output_type": "display_data"
    }
   ],
   "source": [
    "plt.bar(range(1,6), [c[1], c[2], c[3], c[4], c[5]])"
   ]
  },
  {
   "cell_type": "markdown",
   "metadata": {},
   "source": [
    "**In this assignment you will predict whether a particular review gives 5 stars or not.**"
   ]
  },
  {
   "cell_type": "markdown",
   "metadata": {},
   "source": [
    "The data set is fairly large with more than 5 million samples. To speed up the computations for this assigmnent, we will use 500,000 samples for training,  10,000 for the dev-test set and 10,000 for the test set. To reduce any possible bias while partitioning the data set, we will first shuffle the data and then partition into training data, dev-test data, and test data using the following code:"
   ]
  },
  {
   "cell_type": "code",
   "execution_count": 8,
   "metadata": {
    "collapsed": true
   },
   "outputs": [],
   "source": [
    "import random\n",
    "random.seed(1234)\n",
    "random.shuffle(all_data)\n",
    "train_data, devtest_data, test_data = all_data[:500000], all_data[500000:510000], all_data[510000:520000]"
   ]
  },
  {
   "cell_type": "markdown",
   "metadata": {},
   "source": [
    "## Exercise 1 (1 mark)\n",
    "The data are annotated with a star rating. In this assignment we will attempt to predict whether the review has 5 stars or not. In other words, we will use two categories: \"it does not have 5 stars\", and \"it has 5 stars\". According to these categories, check that the training data, devtest data and test data have the same proportions of the categories \"it does not have 5 stars\", and \"it has 5 stars\"."
   ]
  },
  {
   "cell_type": "code",
   "execution_count": 9,
   "metadata": {
    "collapsed": true
   },
   "outputs": [],
   "source": [
    "from collections import Counter"
   ]
  },
  {
   "cell_type": "code",
   "execution_count": 10,
   "metadata": {
    "scrolled": true
   },
   "outputs": [
    {
     "name": "stdout",
     "output_type": "stream",
     "text": [
      "Train Count\n",
      "Counter({'it does not have 5 stars': 285795, 'it has 5 stars': 214205})\n",
      "\n",
      "Devtest Count\n",
      "Counter({'it does not have 5 stars': 5725, 'it has 5 stars': 4275})\n",
      "\n",
      "Test Count\n",
      "Counter({'it does not have 5 stars': 5676, 'it has 5 stars': 4324})\n"
     ]
    }
   ],
   "source": [
    "# Replaces all the ratings with the two categories\n",
    "train = [(w, \"it does not have 5 stars\") if r < 5 else (w, \"it has 5 stars\") for w,r in train_data]\n",
    "# Counts the amount of each category\n",
    "trainCount = Counter([r for w,r in train])\n",
    "print(\"Train Count\")\n",
    "print(trainCount)\n",
    "\n",
    "print()\n",
    "devtest = [(w, \"it does not have 5 stars\") if r < 5 else (w, \"it has 5 stars\") for w,r in devtest_data]\n",
    "devtestCount = Counter([r for w,r in devtest])\n",
    "print(\"Devtest Count\")\n",
    "print(devtestCount)\n",
    "\n",
    "print()\n",
    "test = [(w, \"it does not have 5 stars\") if r < 5 else (w, \"it has 5 stars\") for w,r in test_data]\n",
    "testCount = Counter([r for w,r in test])\n",
    "print(\"Test Count\")\n",
    "print(testCount)"
   ]
  },
  {
   "cell_type": "markdown",
   "metadata": {},
   "source": [
    "#### Train Set: \n",
    "approximately 57.15% of the training data does not have 5 stars.\n",
    "#### Devtest Set:\n",
    "approximately 57.25% of the dev test data does not have 5 stars.\n",
    "#### Test Set:\n",
    "approximately 56.76% of the test data does not have 5 stars.\n",
    "\n",
    "Based on these perecentages, it does seem that the data across three sets are all well proportioned and have an even amount of data."
   ]
  },
  {
   "cell_type": "markdown",
   "metadata": {},
   "source": [
    "## Exercise 2 (2 marks)\n",
    "Use sklearn to generate the tf.idf matrix of the training set. With this matrix, train an sklearn Naive Bayes classifier using the training set and report the F1 scores of the training set, the devtest set, and the test set."
   ]
  },
  {
   "cell_type": "code",
   "execution_count": 11,
   "metadata": {
    "collapsed": true
   },
   "outputs": [],
   "source": [
    "from sklearn.feature_extraction.text import TfidfVectorizer"
   ]
  },
  {
   "cell_type": "code",
   "execution_count": 12,
   "metadata": {
    "collapsed": true
   },
   "outputs": [],
   "source": [
    "# Creates the tfidf fitted with the training set\n",
    "tfidf = TfidfVectorizer(input='contents', stop_words='english', max_features = 2000)\n",
    "tfidf_train = tfidf.fit_transform([w for w, r in train])\n",
    "tfidf_devtest = tfidf.transform([w for w, r in devtest])\n",
    "tfidf_test = tfidf.transform([w for w, r in test])"
   ]
  },
  {
   "cell_type": "code",
   "execution_count": 13,
   "metadata": {
    "collapsed": true
   },
   "outputs": [],
   "source": [
    "from sklearn.naive_bayes import MultinomialNB"
   ]
  },
  {
   "cell_type": "code",
   "execution_count": 14,
   "metadata": {},
   "outputs": [
    {
     "data": {
      "text/plain": [
       "MultinomialNB(alpha=1.0, class_prior=None, fit_prior=True)"
      ]
     },
     "execution_count": 14,
     "metadata": {},
     "output_type": "execute_result"
    }
   ],
   "source": [
    "# Create a naive bayes classifier\n",
    "nb_classifier = MultinomialNB()\n",
    "nb_classifier.fit(tfidf_train, [r for w,r in train])"
   ]
  },
  {
   "cell_type": "code",
   "execution_count": 15,
   "metadata": {
    "collapsed": true
   },
   "outputs": [],
   "source": [
    "from sklearn.metrics import classification_report"
   ]
  },
  {
   "cell_type": "code",
   "execution_count": 16,
   "metadata": {},
   "outputs": [
    {
     "name": "stdout",
     "output_type": "stream",
     "text": [
      "Train Set\n",
      "                          precision    recall  f1-score   support\n",
      "\n",
      "it does not have 5 stars       0.78      0.88      0.83    285795\n",
      "          it has 5 stars       0.81      0.67      0.73    214205\n",
      "\n",
      "             avg / total       0.79      0.79      0.79    500000\n",
      "\n",
      "\n",
      "Devtest Set\n",
      "                          precision    recall  f1-score   support\n",
      "\n",
      "it does not have 5 stars       0.78      0.88      0.83      5725\n",
      "          it has 5 stars       0.81      0.66      0.73      4275\n",
      "\n",
      "             avg / total       0.79      0.79      0.79     10000\n",
      "\n",
      "\n",
      "Test Set\n",
      "                          precision    recall  f1-score   support\n",
      "\n",
      "it does not have 5 stars       0.78      0.88      0.83      5676\n",
      "          it has 5 stars       0.82      0.67      0.74      4324\n",
      "\n",
      "             avg / total       0.79      0.79      0.79     10000\n",
      "\n"
     ]
    }
   ],
   "source": [
    "# Prints a report containing acurracy and f1 scores of the data set based on the naive bayes classifier\n",
    "print(\"Train Set\")\n",
    "print(classification_report([r for w,r in train], nb_classifier.predict(tfidf_train)))\n",
    "\n",
    "print()\n",
    "print(\"Devtest Set\")\n",
    "print(classification_report([r for w,r in devtest], nb_classifier.predict(tfidf_devtest)))\n",
    "\n",
    "print()\n",
    "print(\"Test Set\")\n",
    "print(classification_report([r for w,r in test], nb_classifier.predict(tfidf_test)))"
   ]
  },
  {
   "cell_type": "markdown",
   "metadata": {},
   "source": [
    "#### Train Set:\n",
    "f1-score = 0.79\n",
    "#### Devtest Set:\n",
    "f1-score = 0.79\n",
    "#### Test Set:\n",
    "f1-score = 0.79"
   ]
  },
  {
   "cell_type": "markdown",
   "metadata": {},
   "source": [
    "## Exercise 3 (2 marks)\n",
    "Logistic regression normally produces better results than Naive Bayes but it takes longer time to train. Look at the [documentation of sklearn](http://scikit-learn.org/stable/modules/generated/sklearn.linear_model.LogisticRegression.html) and train a logistic regression classifier using the same tfidf information as in exercise 2. Report the F1 scores of the training set, the devtest set, and the test set."
   ]
  },
  {
   "cell_type": "code",
   "execution_count": 17,
   "metadata": {
    "collapsed": true
   },
   "outputs": [],
   "source": [
    "from sklearn.linear_model import LogisticRegression"
   ]
  },
  {
   "cell_type": "code",
   "execution_count": 18,
   "metadata": {},
   "outputs": [
    {
     "data": {
      "text/plain": [
       "LogisticRegression(C=1.0, class_weight=None, dual=False, fit_intercept=True,\n",
       "          intercept_scaling=1, max_iter=100, multi_class='ovr', n_jobs=1,\n",
       "          penalty='l2', random_state=None, solver='liblinear', tol=0.0001,\n",
       "          verbose=0, warm_start=False)"
      ]
     },
     "execution_count": 18,
     "metadata": {},
     "output_type": "execute_result"
    }
   ],
   "source": [
    "# Creates a logistic regression classifier\n",
    "lr_classifier = LogisticRegression()\n",
    "lr_classifier.fit(tfidf_train, [r for w, r in train])"
   ]
  },
  {
   "cell_type": "code",
   "execution_count": 19,
   "metadata": {},
   "outputs": [
    {
     "name": "stdout",
     "output_type": "stream",
     "text": [
      "Train Set\n",
      "                          precision    recall  f1-score   support\n",
      "\n",
      "it does not have 5 stars       0.83      0.85      0.84    285795\n",
      "          it has 5 stars       0.80      0.77      0.78    214205\n",
      "\n",
      "             avg / total       0.82      0.82      0.82    500000\n",
      "\n",
      "\n",
      "Devtest Set\n",
      "                          precision    recall  f1-score   support\n",
      "\n",
      "it does not have 5 stars       0.83      0.85      0.84      5725\n",
      "          it has 5 stars       0.79      0.77      0.78      4275\n",
      "\n",
      "             avg / total       0.81      0.81      0.81     10000\n",
      "\n",
      "\n",
      "Test Set\n",
      "                          precision    recall  f1-score   support\n",
      "\n",
      "it does not have 5 stars       0.83      0.85      0.84      5676\n",
      "          it has 5 stars       0.80      0.77      0.78      4324\n",
      "\n",
      "             avg / total       0.82      0.82      0.82     10000\n",
      "\n"
     ]
    }
   ],
   "source": [
    "# Prints a report containing acurracy and f1 scores of the data set based on the logistic regression classifier\n",
    "print(\"Train Set\")\n",
    "print(classification_report([r for w,r in train], lr_classifier.predict(tfidf_train)))\n",
    "\n",
    "print()\n",
    "print(\"Devtest Set\")\n",
    "print(classification_report([r for w,r in devtest], lr_classifier.predict(tfidf_devtest)))\n",
    "\n",
    "print()\n",
    "print(\"Test Set\")\n",
    "print(classification_report([r for w,r in test], lr_classifier.predict(tfidf_test)))"
   ]
  },
  {
   "cell_type": "markdown",
   "metadata": {},
   "source": [
    "#### Train Set:\n",
    "f1-score = 0.82\n",
    "#### Devtest Set:\n",
    "f1-score = 0.81\n",
    "#### Test Set:\n",
    "f1-score = 0.82"
   ]
  },
  {
   "cell_type": "markdown",
   "metadata": {},
   "source": [
    "## Exercise 4 (4 marks)\n",
    "Given the results obtained in the previous exercises, answer the following questions. You must justify all answers.\n",
    "1. (1 mark) How much overfitting did you observe in the classifiers?\n",
    "2. (1 mark) What would you do to reduce overfitting?\n",
    "3. (1 mark) Which classifier is better?\n",
    "4. (1 mark) What can you conclude from the differences in the results between the dev-test set and the test set?"
   ]
  },
  {
   "cell_type": "markdown",
   "metadata": {},
   "source": [
    "(write your answer here using [Markdown formatting](http://jupyter-notebook.readthedocs.io/en/stable/examples/Notebook/Working%20With%20Markdown%20Cells.html))"
   ]
  },
  {
   "cell_type": "markdown",
   "metadata": {},
   "source": [
    "### Question 1\n",
    "The accuracy and f1-scores across the training, devtest, and test sets are all fairly similar in the naive bayes classfier. for the f1-scores, training = 0.79, devtest = 0.79, and test = 0.79. This indicates that there is no over-fitting across the data.\n",
    "\n",
    "The logistic regression classifer also indicates that there is no over-fitting since we observe that the f1-scores are all similar as well, with training = 0.82, devtest = 0.81, and test = 0.82.\n",
    "\n",
    "### Question 2\n",
    "There are many steps you can take to reduce over-fitting. These include:\n",
    "\n",
    "Cross-validation: Where you take your train set and parition it into k subsets, and tune your model.\n",
    "\n",
    "Add More Data: Can help improve the accuracy but adding too much data can turn into noise that will not help your model\n",
    "\n",
    "Remove features: Having too many features can create a problem, so it can help to remove some features and only keep the most relevant ones.\n",
    " \n",
    "\n",
    "### Question 3\n",
    "The logistic regression classifier seems to be marginally better than the naive bayes, with all f1-scores for the logistic regression classifer being slightly greater than 0.8, whilst all the f1-scores for the naive bayes classifer is slightly below 0.8.\n",
    "\n",
    "### Question 4\n",
    "The devtest and test sets are both very similar, and show no obvious differences. Both contain data selected randomly from the same data set, and are the same size, so it's not suprising that they are so similar."
   ]
  },
  {
   "cell_type": "markdown",
   "metadata": {},
   "source": [
    "## Exercise 5 (2 marks)\n",
    "Write code that counts the false positives and false negatives of the training set of each classifier. What can you conclude from such counts?"
   ]
  },
  {
   "cell_type": "code",
   "execution_count": 20,
   "metadata": {
    "collapsed": true
   },
   "outputs": [],
   "source": [
    "from sklearn.metrics import confusion_matrix"
   ]
  },
  {
   "cell_type": "code",
   "execution_count": 21,
   "metadata": {},
   "outputs": [
    {
     "name": "stdout",
     "output_type": "stream",
     "text": [
      "Naive Bayes\n",
      "[[252008  33787]\n",
      " [ 71435 142770]]\n",
      "\n",
      "False Positive: 33787\n",
      "False Negative: 71435\n",
      "\n",
      "Logistic Regression\n",
      "[[243375  42420]\n",
      " [ 48544 165661]]\n",
      "\n",
      "False Positive: 42420\n",
      "False Negative: 48544\n"
     ]
    }
   ],
   "source": [
    "# Get a confusion matrix of the predictions to see true and false predictions\n",
    "nb_matrix = confusion_matrix([r for w,r in train], nb_classifier.predict(tfidf_train))\n",
    "print(\"Naive Bayes\")\n",
    "print(nb_matrix)\n",
    "print()\n",
    "# Find the false positives and false negatives in the matrix\n",
    "print(\"False Positive: \" + str(nb_matrix[0][1]))\n",
    "print(\"False Negative: \" + str(nb_matrix[1][0]))\n",
    "\n",
    "print()\n",
    "lr_matrix = confusion_matrix([r for w,r in train], lr_classifier.predict(tfidf_train))\n",
    "print(\"Logistic Regression\")\n",
    "print(lr_matrix)\n",
    "print()\n",
    "print(\"False Positive: \" + str(lr_matrix[0][1]))\n",
    "print(\"False Negative: \" + str(lr_matrix[1][0]))"
   ]
  },
  {
   "cell_type": "markdown",
   "metadata": {},
   "source": [
    "Reference of positions on the matrix: (0,0 = True Negative) (1,0 = False Negative) (0,1 = False Positive) (1,1 = True Positive)\n",
    "\n",
    "There are more false values overall in the naive bayes classifier than in the logistic regression. This further validates the claim that the logistic regression classifier was slightly more accurate as shown by the f1_scores.\n",
    "\n",
    "Also Being able to see the Amount of Data that is 'true' allows us to check the percentage that are predicted correctly, and compare it to the f1-scores and accuracy. For example in the naive bayes classifier:\n",
    "\n",
    "142,770 + 252,008 = 394778\n",
    "394,778/500,000 = 0.79\n",
    "\n",
    "the 0.79 matches the accuracy in the train set naive bayes classifier "
   ]
  },
  {
   "cell_type": "markdown",
   "metadata": {},
   "source": [
    "## Exercise 6 (9 marks) - Improve the System and Final Analysis\n",
    "This exercise is open ended. Your goal is to perform a more detailed error analysis and identify ways to improve the classification of reviews **by adding or changing the features**. To obtain top marks in this part, your answer must address all of the following topics:\n",
    "\n",
    "1. An error analysis of the previous systems.\n",
    "2. Based on the error analysis, explain what sort of modifications you would want to implement, and justify why these would be useful modifications.\n",
    "3. Implementation of the improved classifier.\n",
    "4. Evaluation of the results and comparison with the previous classifiers. What system is best and why?\n",
    "5. Explain what further changes would possibly improve the classifier and why.\n",
    "\n",
    "All this information should be inserted in this notebook below this question. The information should be structured in sections and it must be clear and precise. The explanations should be convincing. Below is a possible list of section headings. These sections are just a guideline. Feel free to change them, but make sure that they are informative and relevant.\n",
    "\n",
    "** Note that, even if the new system might not obtain better results than the previous systems, you can obtain top marks if you perform a good error analysis of the initial systems and the final system and you give a sensible justification of the decisions that led you to implement the new system. Similarly, you may not obtain top marks if you present a system that improves on the results but you do not provide a good error analysis or you do not justify your choice of new system. **"
   ]
  },
  {
   "cell_type": "markdown",
   "metadata": {},
   "source": [
    "### 1. Error Analysis"
   ]
  },
  {
   "cell_type": "code",
   "execution_count": 22,
   "metadata": {
    "collapsed": true
   },
   "outputs": [],
   "source": [
    "from sklearn.metrics import accuracy_score\n",
    "import nltk"
   ]
  },
  {
   "cell_type": "code",
   "execution_count": 23,
   "metadata": {},
   "outputs": [
    {
     "name": "stdout",
     "output_type": "stream",
     "text": [
      "Accuracy of dev-test set: 0.7889\n",
      "number of errors:  2111\n",
      "number of correct:  7889\n"
     ]
    }
   ],
   "source": [
    "print(\"Accuracy of dev-test set:\", accuracy_score([r for w, r in devtest], nb_classifier.predict(tfidf_devtest)))\n",
    "errors = []\n",
    "correct = []\n",
    "# Check if the prediction is right or not and sort into lists accordingly\n",
    "for w, r in devtest:\n",
    "    guess = nb_classifier.predict(tfidf.transform([w]))\n",
    "    # Go through and check each individual review if it equals it's original category\n",
    "    if guess != r:\n",
    "        errors.append((r, guess, w))\n",
    "    else:\n",
    "        correct.append((r, guess, w))\n",
    "print(\"number of errors: \", len(errors))\n",
    "print(\"number of correct: \", len(correct))"
   ]
  },
  {
   "cell_type": "markdown",
   "metadata": {},
   "source": [
    "Went Through the naives bayes classifer on the devtest and stored all the errors in a new list. Also store the correct ones in a list as it used later on."
   ]
  },
  {
   "cell_type": "code",
   "execution_count": 24,
   "metadata": {
    "scrolled": true
   },
   "outputs": [
    {
     "name": "stdout",
     "output_type": "stream",
     "text": [
      "5 Star Reviews mislabelled\n",
      "\n",
      "correct =  it has 5 stars\n",
      "guess =  ['it does not have 5 stars']\n",
      "text =  Visited Monday 11\\/9 because I had won a $20 gift certificate in a golf tournament.  Not knowing anything about the place, we were pleasantly surprised at the cleanliness of the bar\\/restaurant.  There were a few people out on the patio (smokers, kind of a turnoff) but we were planning on sitting inside anyhow.  The bartender\\/waitress was very friendly and attentive, which is always good!  We split a personal pizza, a salad and a Philly cheese steak sandwich. We got the thin crust pizza and I highly recommend you try it and it was cooked perfectly.  The Philly had a heap of meat on it and the roll it was served on was fresh and just really good.  The salad was also very fresh and they have really good Ranch dressing (and I am a Ranch snob!)  So, I would say this is better than just \"bar food\" it seems to be teetering on fresh ingredients and someone in the back does care about what they are doing.  I will be back for lunch and or dinner soon.\n",
      "\n",
      "correct =  it has 5 stars\n",
      "guess =  ['it does not have 5 stars']\n",
      "text =  We visited the Grand View buffet early in the evening, so it was not very crowded when we arrived. However, the dining room became quite busy later on. A buy-one-get-one free special was available on week days in January, making it quite affordable. We got two buffets for $20, along with nonalcoholic beverages that were included in the price! \n",
      "\n",
      "We were greeted upon arrival and were seated immediately. Our server was quite pleasant and efficient. She provided drink refills and cleared our table as needed. Employees at the various stations were also quite pleasant. They keep all food items well stocked throughout the evening. The view of the river from the large picture windows was an added bonus. \n",
      "\n",
      "There were various food stations available, including Asian (with stir-fried items which you select and have prepared while you wait), Italian, American, and BBQ. A large salad bar offered a variety of fresh salad items, along with soups and rolls. A carving station offered deliciously tender prime rib, as well as ham and turkey. The dessert station had a large variety of desserts attractively presented, with one dessert being served in small, plastic martini glasses. Several sugar-free desserts were also available, along with a nice variety of gelato. \n",
      "\n",
      "We thoroughly enjoyed our meals and look forward to eating here again in the near future.\n",
      "\n",
      "correct =  it has 5 stars\n",
      "guess =  ['it does not have 5 stars']\n",
      "text =  I got so lucky with Ellen! I needed an appt ASAP, called and she offered to take me right away. It normally takes most estheticians about 30-60 minutes for a full, she had me in and out in less than 20! Such a sweetheart and so fast! I would recommend her 100%!\n",
      "\n",
      "correct =  it has 5 stars\n",
      "guess =  ['it does not have 5 stars']\n",
      "text =  Yum! The hot pastrami sandwich was soooo tasty!  They were very busy on a Thursday night. We had to wait for menus and never saw a wine list but that wasn't a big deal. Service was good and I will definitely go back!\n",
      "\n",
      "correct =  it has 5 stars\n",
      "guess =  ['it does not have 5 stars']\n",
      "text =  My favorite restaurant in Las Vegas! I have been here twice for dinner and once for lunch.\n",
      "\n",
      "Bread comes with butter and a carrot topping. very interesting but good.\n",
      "The scallops and french onion soup is to die for!\n",
      "Filet mignon melts in your mouth like butter.\n",
      "Also, if you sit outside, you can watch the Bellagio Fountains.\n",
      "Out of all the fine dining places I have tried in Vegas, this one is still my favorite. The food is great and it is also cheaper than most other places.\n",
      "\n",
      "correct =  it has 5 stars\n",
      "guess =  ['it does not have 5 stars']\n",
      "text =  I LOVE this pool area.  So much fun and so pretty.  Lots of palms and sand for the little ones.  We have been here twice and both times they were playing great music in the background.  THe poolside drink service is really good too.  The girls are friendly and are around to check on you quite often.  I wish it stayed open later.  They close at 7 pm.  It would be a fun place to swim at night.\n",
      "\n",
      "correct =  it has 5 stars\n",
      "guess =  ['it does not have 5 stars']\n",
      "text =  Otroligt mysig bar i mysiga kvarter.\n",
      "\n",
      "Drinkarna är grymma och personalen supertrevlig.\n",
      "\n",
      "Priserna är runt 7 gbp och det är ett fynd i jämförelse med sveriges förskräckliga drinkpriser.\n",
      "\n",
      "correct =  it has 5 stars\n",
      "guess =  ['it does not have 5 stars']\n",
      "text =  Oh my goodness - forget the negative reviews - nonsense. We had the shrimp cocktail - good, and the nachos - best ever. Homemade nacho chips were incredible. The person who said \"bland\" and \"no taste\" must have dead tastebuds. The food was great and the service as good. Highly recommended!\n",
      "\n",
      "correct =  it has 5 stars\n",
      "guess =  ['it does not have 5 stars']\n",
      "text =  Love this place, it's one of my favorite restaurants. It's kind of hard to get to though if you aren't staying at MGM or the Signature. The table side guacamole and margaritas are excellent. \n",
      "\n",
      "I order the same thing every time I come here but never get bored of it - the shrimp tacos are my go-to. This place is also really fun to when you're with a big group, just make sure to make a reservation.\n",
      "\n",
      "correct =  it has 5 stars\n",
      "guess =  ['it does not have 5 stars']\n",
      "text =  I recommend asking \"is this a phallic item?\" while ordering here since a number of things come rolled up - including an ambiguous \"pork\" item which is more like a hot dog wrapped in lettuce wearing an edible condom (patent pending). \n",
      "\n",
      "But don't let that dissuade you! \n",
      "Their soups are great; their egg noodles confusing to eat but delicious. \n",
      "In general the menu's a happy marriage of eternal life stews and cardiac arrest platters. \n",
      "\n",
      "Forever turtle.\n",
      "\n",
      "correct =  it has 5 stars\n",
      "guess =  ['it does not have 5 stars']\n",
      "text =  Vraiment exceptionnel!! Les pops de Catherine sont une merveille pour les sens. On retrouve le goût des fruits authentiques grâce à des recettes santé qui laisse la place aux saveurs naturels. Exit le sucre artificiel qui gâche tout notre capacité à percevoir le goût. L'endroit est un petit coin de paradis caché, à quelques encablures du canal Lachine, à ne manquer sous aucun prétexte lors d'une ride de vélo!\n",
      "\n",
      "correct =  it has 5 stars\n",
      "guess =  ['it does not have 5 stars']\n",
      "text =  Love this pizza! We always get the white pizza. My kids live this pizza & eating here. They have all written their name on the wall which us really cool. They will give you a marker so you can write whatever you want on the walls here. Usually It's your name & the sharpie is always a different color. If you haven't tried this place make it your next stop for lunch or dinner... you won't be dissapponted!\n",
      "\n",
      "correct =  it has 5 stars\n",
      "guess =  ['it does not have 5 stars']\n",
      "text =  We found great deals and had some yummy Chinese food at the food court. I never go there without finding something to take home. Coach always has fun staff and I purchased my first Coach bag finally. Can't wait to go back!\n",
      "\n",
      "correct =  it has 5 stars\n",
      "guess =  ['it does not have 5 stars']\n",
      "text =  I stopped here for coffee and a place to relax and wasn't disappointed at all.\n",
      "\n",
      "The latte was delicious and well-made, and the service was very friendly. If you're looking for a full breakfast menu, I wouldn't suggest this cafe, but would recommend for a pastry and cup of coffee.\n",
      "\n",
      "correct =  it has 5 stars\n",
      "guess =  ['it does not have 5 stars']\n",
      "text =  i love yama sushi!!!! the all you can eat includes so much, from appetizers to soup to mochi ice cream!\n",
      "\n",
      "The quality of the sushi is very good given the price. They offer many creative and funnily named rolls. I recommend the no name roll and whose your daddy roll. I also love their seafood salad, its basically a sashimi salad topped with some shrimp tempura. However, be wary of their spicy grade, the two times I've ordered the seafood salad mild and found it too spicy to eat more than a few bites.\n",
      "\n",
      "When it gets busy, service can get really slow, however the fact that the waitresses have the foresight to incrementally send in your orders, anticipating that you will get too full and want to cancel part of your order, makes up for the spotty service. Putting up with slow service beats wasting (and paying for) lots of untouched sushi or eating until your stomach explodes\n",
      "\n",
      "correct =  it has 5 stars\n",
      "guess =  ['it does not have 5 stars']\n",
      "text =  As far as I know this is the only place in Ontario or Quebec that carries Whitelines notebooks (http:\\/\\/www.whitelines.se), which I've been obsessed with for the past year. When I discovered this via the distribution page, I promptly planned a trip to Montreal to stock up on these fine notebooks. OK fine - I wasn't *that* impulsive, but I did incorporate my burning yen for pale-lined graph paper notebooks into my trip plan.\n",
      "\n",
      "Montreal already has Essence Du Papier, which carries many, many brands of journals, agendas and fountain pens by reputable brands like Clairefontaine and Moleskine, but Nota Bene has so much more.\n",
      "\n",
      "First of all, the store is pristine and everything is wonderfully organized. There are so many goddman notebooks to choose from you won't be able to settle on just one. I was in such a tizzy over the availability of the notebooks that the owner could hardly contain her giggles. She was incredibly friendly and accommodating, and even alerted me to the fact that the store has an online shop and delivers to Toronto. The upstairs was being used as an art space when I visited. Cool idea.\n",
      "\n",
      "I ended up leaving with some Danish and German graph paper notebooks that were on sale for only $4 each, as well as some ink refills for my Lamy fountain pen and of course, the aforementioned Whitelines notebooks. I pretty much bought out the store. Trust me when I say these books are the BEST. The paper quality is unparalleled and it's such a treat to write on graph paper, without the distracting and harsh dark lines. The paper also photocopies or scans blank, meaning the lines disappear, giving the illusion of plain white paper.\n",
      "\n",
      "correct =  it has 5 stars\n",
      "guess =  ['it does not have 5 stars']\n",
      "text =  So, I had a job interview early this morning.  I forgot to print the attachment yesterday, and when I got up this morning, I almost had a heart attack!! I looked to see what kinko's was open early (as most of them are) but was close to where I was interviewing at.\n",
      "\n",
      "For starters, they open at 6AM. This, my friend, is a huge lifesaver!  I called them first thing, and talked to a really nice guy and got the email address for the store itself. I told him that I would be there in half an hour to pick it up on my way in.  He was really cool, and helped me out with what I needed.  After I emailed him, I called the store back and made sure they got it. I gave him my name and told him I'd be there in half an hour.\n",
      "\n",
      "I walked in, literally 30 minutes later and the paperwork was ready. Granted, it's not a huge complicated project, but being that I didn't bother to check the night before, it was last minute on my part and lack of preparedness.  I grabbed the paperwork, paid the $$ and took off, all in a matter of minutes.\n",
      "\n",
      "Thank you Kinko's for saving my ass.  Thank you for being open early and being quick and cool about stuff, and helping a sister out.  I don't know what I would have done of they weren't open so early and so readily available to help.\n",
      "\n",
      "correct =  it has 5 stars\n",
      "guess =  ['it does not have 5 stars']\n",
      "text =  It's nice to go to an Italian restaurant where they actually know how to prepare the pasta.  No mushy gross noodles here.  If you really want to do it up right...order the cherries jubilee.  Made at the table - it's like performance art!  Banana's foster is good, too.\n",
      "\n",
      "correct =  it has 5 stars\n",
      "guess =  ['it does not have 5 stars']\n",
      "text =  It is the perfect mix of fast food and authentic. Everything tastes a lot more authentic Than another place such as panda express. Although that does come with the drawback of being more expensive as well (but very much worth it.) All the workers work fast and are nice. They have A LOT of menu options. And it is overall a very good experience.  Its fast like fastfood but is more like professionally cooked chinese food. 5 stars all the way. (Still have yet to be disappointed)\n",
      "\n",
      "correct =  it has 5 stars\n",
      "guess =  ['it does not have 5 stars']\n",
      "text =  I've been coming here for 8 years. The menu has changed but the dinner the service is excellent. I am always accommodated by the bartender\\/server named Ozzy. If you want good service find the guy behind the bar in the cowboys jersey. He's on it!\n",
      "\n",
      "correct =  it has 5 stars\n",
      "guess =  ['it does not have 5 stars']\n",
      "text =  The service was quick and effective. From beginning to end, the quality of service I received was great. The representative I spoke to was accommodating and helpful. They found potential leasees and schedules viewings. I had at least one viewing per week. Take Over Lease takes away all the hassles of having to find a leasee. I had 3 people take a look at my apartment transferred my lease in about a month. I'd say that pretty quick considering I wouldn't have been able to source quality take overs myself.\n",
      "\n",
      "correct =  it has 5 stars\n",
      "guess =  ['it does not have 5 stars']\n",
      "text =  My wife and I enjoyed the fajitas with chicken, steak, and ham - delicious!  Can't believe we haven't eaten here sooner!  Easily the best Mexican food in the area - good flavor - solid - fresh - delicious.  Good sized portions.  Spicy FRESH salsa and FRESH fried tortilla chips.\n",
      "\n",
      "The margaritas are excellent - wow! - one of the best margaritas in champaign and we like top shelf margaritas...\n",
      "\n",
      "Don't judge the restaurant from the street!  Parking is sparse and seating is limited but the food and drinks are excellent!  Good service - fast kitchen.  \n",
      "\n",
      "Hoping they open up a second location with an outdoor seating area - I'm picturing sitting outside in the sun with a pitcher of their delicious margaritas or a bucket of modelos on ice enjoying a skillet of fajitas!\n",
      "\n",
      "correct =  it has 5 stars\n",
      "guess =  ['it does not have 5 stars']\n",
      "text =  Love the AYCE menu. Great price with good options. The staff has always been nice & fast on refills or getting your orders put in & to you. Definitely our go to for sushi.\n",
      "\n",
      "correct =  it has 5 stars\n",
      "guess =  ['it does not have 5 stars']\n",
      "text =  It was pretty cool to see Star Wars The Force Awakens on its opening weekend at the newest and nicest theater in town. The theater is located at the Northeast end of Scottsdale Fashion Square Mall and you can enter from the mall or directly from the parking garage on the North side of the mall. The theater itself is very nice. The lobby includes seating areas, a bar with dessert selections, an outdoor patio, customer service, and a concession stand with standard movie fare like popcorn, sodas, and candies. What it is not is a movie theater with waiter service where they deliver food and drinks to your seat and that's fine with me, I've been to those places and while the waiters are usually fairly discreet, the other patrons trying to flag them down, pick up and put down their food, or sending back orders is what is generally very annoying. If you want dinner and movie that's fine, but do it somewhere else!\n",
      "\n",
      "As for the theater experience itself, it was amazing! First of all, there is reserved seating so you can select where you want to sit and know it will be available. Secondly, the screens are curved for optimal viewing and the sound quality is amazing. Finally, the seats recline... and this isn't just leaning back, it's motorized loungers with footrests that come out and backs that go back so far you're almost lying down. In fact, the only drawback I can foresee is that because this theater will be showing art films, and the average age of the audience at those films is fairly old, it's quite possible that some people may find themselves falling asleep or sitting next to a snorer in this theater. \n",
      "\n",
      "Overall though, this is an amazing place to see a movie and a worthy successor to the original Camelview. Once again we should be grateful that we have a chain like Harkins based in the Valley which provides us with great options for moviegoing.\n",
      "\n",
      "correct =  it has 5 stars\n",
      "guess =  ['it does not have 5 stars']\n",
      "text =  Went in on my lunch break today to get my iPhone 6 plus screen fixed. I was thinking it would take a good 30-40 minutes to complete but the guy was mad quick!!! He took the device apart and swapped screens and was done in about 15 minutes. Very professional very legit. I will definitely be spreading the word.\n",
      "\n",
      "correct =  it has 5 stars\n",
      "guess =  ['it does not have 5 stars']\n",
      "text =  The Double Down Saloon is truly one of \" the happiest places on Earth.\" The outside facade of the bar displays this slogan in bright white capital letters. \n",
      "My college buddy and a couple of friends from my neighborhood know my style fairly well. I do need to be happy especially at times like this. \n",
      "The Double Down Saloon is my kind of bar. Pool table, a great jukebox easy on the attitude.  \n",
      "The locals prefer to go with the special which is the Schlitz and the ass juice. Formulated differently each night.....the only important criteria for ass juice is that it be pinkish brown and go well with beer.  \n",
      "Oh yeah, it was indeed appropriately named. The combination of beer and a sweet concoction of 'god knows what' was actually quite good. \n",
      "My Vegas friends tell me all the time to get away from that awful strip for awhile to maintain my sanity here and here's where you do it. The Double  Down Saloon. \n",
      "Although the Double Down doesn't serve food I believe its a city ordinanace in Las Vegas that any business not involving pre-school children provide gambling opportunities \n",
      "What impressed me was the local folk. Always eager to lend a helping hand. By this, I mean the gambling aspect. The bar is aligned with all kinds of slot machines and games I don't know how to play, however my new friends (Lisa and Rachel) were there for the rescue. \n",
      "Lisa asks me if we are looking for some local stuff to do. My friend answers by saying \" we need to keep his mind clean and pure away from that nasty strip.\"\n",
      "Lisa and Rachel quickly say \" yeah, I agree, we can help you guys with that. Well, we have to take off but it was really good meeting you and your friend. Here is my number. Definitely give me a call if you're interested in checking out the real Las Vegas \"\n",
      "Should I befriend these ladies? My buddy says \"always.\" I say \" so we should call these two up?\" \n",
      "He says \" yeah, sure, why not? I trust them .\" \n",
      "First of all, I'm going to enjoy my time at the Double Down and then I'll think about calling. I want to look around \" the happiest place on Earth \" for awhile because this place is one of a kind. Graffiti walls, stickers on every inch inside and hanging ornaments give this place a dirty and cheap look but in a good way. We also heard from other local people that rock\\/ punk metal bands play until 3am or even 4am! That's unheard of in L.A.!     \n",
      "After a couple of rounds of ass juice and Schlitz. My party and I decide to take off . I admit after leaving the \"happiest place on Earth.\" I felt strangely happy.\n",
      "\n",
      "correct =  it has 5 stars\n",
      "guess =  ['it does not have 5 stars']\n",
      "text =  Best chicken fingers EVER! And their fries rock too! Went here a million times when I was in school!\n",
      "\n",
      "correct =  it has 5 stars\n",
      "guess =  ['it does not have 5 stars']\n",
      "text =  Nicely done Eastern European cuisine!\n",
      "Cold beet soup was fantastic, great for hot summer days. Russian meatballs with buckwheat were just like my grandmother used to make.\n",
      "Definitely will be back to try their other menu items.\n",
      "\n",
      "correct =  it has 5 stars\n",
      "guess =  ['it does not have 5 stars']\n",
      "text =  Did not disappoint!  \n",
      "\n",
      "I came here this past weekend with my boyfriend for my birthday weekend getaway.  I made a reservation for a Sunday night at 7pm about a month ago.  The place was busy when we got there but got steadily more busy as the night progressed.  \n",
      "\n",
      "We ordered the smallest cold seafood platter as an appetizer (6 oysters, 6 jumbo shrimp & 6 king crab legs).  It was very good, though I wasn't thrilled with the cocktail sauce they served and would have liked more horseradish.  The seafood was fresh and very tasty!\n",
      "\n",
      "We drank dirty martini's with our app.  These could have been dirtier - very stingy on the olive juice but i guess I like my dirty's on the filthier side and I should have mentioned it when i ordered.\n",
      "\n",
      "For main course we shared two appetizers and I am glad we did because they were very large.  We had the lobster poutine which was AMAZING with huge chunks of lobster meat.  This did NOT taste like lobster from the can (as per previous reviewer).  It was fresh and juicy and the chunks were huge!  lots more lobster in here than fries!  We also had the tomato salad app with fried chedder cheese squares & avocado!  WOw great compliment to the poutine.  So fresh and delicious!  We each drank sauvignon blanc with the meal which was a nice complement.  \n",
      "\n",
      "Our server was very good although I think she was a bit disappointed that we did not order full main courses on top of the raw apps and appetizer portion main courses.  Honestly we were so stuffed we didn't even finish it & the total still topped out at almost $200 so hopefully that shrug and upturn of the nose I noticed after I acknowledged her \"is that all?\" with a nod was just my imagination.  \n",
      "\n",
      "It doesn't matter, the food was worth it and if I ever find myself in Montreal again I will beeline it to this spot.  Best meal in town!\n",
      "\n",
      "correct =  it has 5 stars\n",
      "guess =  ['it does not have 5 stars']\n",
      "text =  Very delishes!! So authentic and fresh!\n",
      "Had their calamari and chicken Alfredo added some shrimp and came out so good!\n",
      "Definetly will be back!\n",
      "\n",
      "correct =  it has 5 stars\n",
      "guess =  ['it does not have 5 stars']\n",
      "text =  I seldom give anything 5 stars as it begs no room for improvement. Bottom line is this is the best Residence Inn I've been to. Have stayed at least 5 times. Great lobby, dining, office area. Also has billiard\\/theater room. Staff very accommodating! Walking distance to PNC and Heinz Field as well as many restaurants. Convenient to all Greater Pitt Are location with exception of rush hour traffic.\n",
      "\n"
     ]
    }
   ],
   "source": [
    "print(\"5 Star Reviews mislabelled\")\n",
    "print()\n",
    "for (r, guess, w) in errors[:50]:\n",
    "    if r == \"it has 5 stars\":\n",
    "        print(\"correct = \", r) \n",
    "        print(\"guess = \", guess)\n",
    "        print(\"text = \", w)\n",
    "        print()"
   ]
  },
  {
   "cell_type": "markdown",
   "metadata": {},
   "source": [
    "Firstly, had a look through some of the reviews that had been mislabelled. I started with the 5 star reviews that had been wrongly labelled. Reading through some of these reviews, I noticed that the language isn't strongly positive. A lot of them describing the events that occured during there time at the restraunt or hotel and so on. This would make it difficult for the classifier to determine that it is 5 stars, as there is not enough words describing how good it is, but more neutral language describing what happened in general."
   ]
  },
  {
   "cell_type": "code",
   "execution_count": 25,
   "metadata": {},
   "outputs": [
    {
     "name": "stdout",
     "output_type": "stream",
     "text": [
      "not 5 Star Reviews mislabelled\n",
      "\n",
      "correct =  it does not have 5 stars\n",
      "guess =  ['it has 5 stars']\n",
      "text =  Fast, clean and gorgeous work done by friendly staff. If I lived in town, this would be my spot.\n",
      "\n",
      "correct =  it does not have 5 stars\n",
      "guess =  ['it has 5 stars']\n",
      "text =  My husband and I found this place through Groupon and are very glad we did!  We ordered some of the chef special rolls and they were phenomenal!  Really good.  Portions were big without overloading with rice!  We'll definately be going back!\n",
      "\n",
      "correct =  it does not have 5 stars\n",
      "guess =  ['it has 5 stars']\n",
      "text =  Stopped in today for the first time on a walk to the library. We got there late in the afternoon and all of the daily flavors were gone except for the toasted almond crunch. The cupcake was flavorful and moist with a cream frosting, topped with shaved toasted almonds. Definite flavor explosion from the first bite to the last. I only wish we had gotten there earlier to try some of the others. The owner is very perky, friendly and sweet.\n",
      "FYI-Tuesday is vegan day at the bakery.\n",
      "\n",
      "correct =  it does not have 5 stars\n",
      "guess =  ['it has 5 stars']\n",
      "text =  Coming From Cali, to celebrate our anniversary and of course watch a steeler game.  Place is nice and cozy. Food is delicious. Mac n cheese get it! Oh and also the marrow!!\n",
      "\n",
      "correct =  it does not have 5 stars\n",
      "guess =  ['it has 5 stars']\n",
      "text =  Wow. This Cirque show has impressed beyond what we've been to so far (Ka, etc).\n",
      "\n",
      "I think the first impression I have is that all the music and singing is live. To be able to synch such with the performers takes a lot of practice and skill.\n",
      "\n",
      "The second best feature is the great feats of human conditioning and athletesism that show through each act and performance. Watching two people balance one another into unbelieveable forms or watching a person juggle a giant 3d style box while suspended is just amazing.\n",
      "\n",
      "So many great performances and acts to be seen in this show. Definitely worth the price you pay to watch.\n",
      "\n",
      "correct =  it does not have 5 stars\n",
      "guess =  ['it has 5 stars']\n",
      "text =  Health nut is perfect to start the day\n",
      "\n",
      "correct =  it does not have 5 stars\n",
      "guess =  ['it has 5 stars']\n",
      "text =  Good Eats.\n",
      "\n",
      "This is a nice easy place to eat.  The foodstyle style is a homemade feeling .. and its very nicely priced.  Great easy eats.\n",
      "\n",
      "correct =  it does not have 5 stars\n",
      "guess =  ['it has 5 stars']\n",
      "text =  new look (looks like the one at Yorkdale) with the same great vibe and excellent style. The people have always been friendly and still are. There are lots of great stuff (some on sale) it's a must stop in when here at sherway.\n",
      "\n",
      "correct =  it does not have 5 stars\n",
      "guess =  ['it has 5 stars']\n",
      "text =  Very comfortable space with friendly staff. Wait time between appointments or part of same appointment on same day was a little long. Jackie the dental hygienist is the best and truly leads with care and kindness! I've been 3 times for multiple kinds of work and Jackie took the most care in my pain management and long term plans. They seem to be a little overwhelmed with only one dentist right now which made it not so timely but he was friendly and precise.\n",
      "\n",
      "correct =  it does not have 5 stars\n",
      "guess =  ['it has 5 stars']\n",
      "text =  It's easy to fall in love with this place. I've eaten here quite a few times, and I'm sure that I'll be back. The food is hearty - meat eaters have nothing to fear from this place.\n",
      "\n",
      "The price is not super cheap, but for the quality of food you get, I'm very happy with it. Service is casual and the setting is chill, so it's a comfortable environment all around.\n",
      "\n",
      "correct =  it does not have 5 stars\n",
      "guess =  ['it has 5 stars']\n",
      "text =  I recently came to herbal nails for a pedicure. My nail tech did a great job and was super nice, complimented the color I chose and made sure to do an extra thorough job on my massage. I thought the service was fine, and the sugar scrub and hot stones were definitely an extra treat for me, but I was a little sad that nobody offered me a wine, as that is apparently *the* big perk of coming to herbal, and is included in the lofty price.\n",
      "\n",
      "correct =  it does not have 5 stars\n",
      "guess =  ['it has 5 stars']\n",
      "text =  Tasty Kabob is a must see on any Hookah bar tour. They serve food, coffee and alcoholic beverages for those of age. In addition, the Hookahs are top notch. Now on to the food! Ever had Saffron Rice or Chargrilled Steak, Chicken or Pork? Try any of the Kabob platters, very good!  Also they have the best Persian Ice Cream which is only one flavor....what is the flavor??....(its a secret, you will have to go there and find out!) Prices are moderate for a dinner for two, atmosphere is casual enough to be a great first date place (attention cheesy guys) and they are rarely busy so cosy dates can become sweet and innocent. \n",
      "For persian cuisine in the East Valley this place is a must.\n",
      "\n",
      "correct =  it does not have 5 stars\n",
      "guess =  ['it has 5 stars']\n",
      "text =  Very cute place, owners are super friendly. I do suggest trying the Vanilla Frappe. Was delicious, same with the chocolate chunk cookies! This is right across the street from my workplace and I have been here a few times for coffee. Always very pleasant :)\n",
      "\n",
      "correct =  it does not have 5 stars\n",
      "guess =  ['it has 5 stars']\n",
      "text =  The first time my fiancé and I came here it was for a nut milk class. We tried different types of nut milks and vegan nut cheeses. They even gave us samples of their bread. I was impressed and wanted to come back and try more food. \n",
      "\n",
      "Since the class I have been back twice. I have only tried the kale salad, the nutty butter sandwich, a date bar, the hummus plate, and a vanilla bean latte. \n",
      "\n",
      "The vanilla bean latte is excellent!  I absolutely love it with coconut milk.  \n",
      "The kale salad was good. It was fresh and healthy but I prefer a different kale salad from another restaurant. The nutty butter sandwich was nice as well but the day that I tried it they had run out of banana. It was good but would've been better with the banana. The hummus plate had really nice fresh vegetables to dip the hummus in, and three different kinds of hummus. I liked it but I think the hummus could have been seasoned a little more. It was a bit bland for my taste.  I did not really care for the date bar. I appreciate that it was vegan and gluten-free, but the dates were very mushy and I did not like the texture. I would also like a little more flavoring in that as well.  Maybe more cinnamon or something to give it a little extra excitement. \n",
      "\n",
      "I'm grateful there is another solid quality vegan gluten-free restaurant in the valley.\n",
      "\n",
      "correct =  it does not have 5 stars\n",
      "guess =  ['it has 5 stars']\n",
      "text =  Highly recommend David. He is my personal barber for the last 7 years or so. Super nice guy, very friendly, knows what he is doing. This review is actually mostly for David, lol. He keeps moving around to different places. I started going to him when he first worked here, then he moved to two different barbershops and I followed him there, and now he's back at Chandler Mall.\n",
      "\n",
      "So David gets 5 stars.\n",
      "The one star deduction is because this barbershop in the mall is starting to feel a little run down. It needs some much  needed renovations.\n",
      "\n",
      "correct =  it does not have 5 stars\n",
      "guess =  ['it has 5 stars']\n",
      "text =  This is a nice farm nestled in the country outside Asheville. You will find many of the local restaurants use locally sourced meats from Hickory Nut. There is something for all ages at Hickory Nut. You can visit with the animals in the barn, make friends with the ones roaming the grounds or wander the farms maze and pick some produce. My favorite was the market area where you can buy your own fresh meat.\n",
      "\n",
      "correct =  it does not have 5 stars\n",
      "guess =  ['it has 5 stars']\n",
      "text =  A small pet store in Roncesvalles.  They carry food, dog toys, a good selection of treats and grooming stuff.  There is a smaller section of cat items, including food, litter boxes, fountains, and some toys.  The owners seem nice and tried in vain to order a snowsuit for my pug.  The definitely get points for trying hard.  They also support pet adoptions through rescue agencies.\n",
      "\n",
      "correct =  it does not have 5 stars\n",
      "guess =  ['it has 5 stars']\n",
      "text =  Huge portions!! Absolutely filling. But you do need to realise after your 200th bite, you're still eating the same thing. It's best to share various flavours with friends to enlighten your tastebuds throughout your meal.\n",
      "\n",
      "correct =  it does not have 5 stars\n",
      "guess =  ['it has 5 stars']\n",
      "text =  Extremely delicious treats, it's honestly heaven for anyone who is vegan\\/gluten free.  Totally would recommend however it is a little pricey but really worth it.\n",
      "\n"
     ]
    }
   ],
   "source": [
    "print(\"not 5 Star Reviews mislabelled\")\n",
    "print()\n",
    "for (r, guess, w) in errors[:50]:\n",
    "    if r == \"it does not have 5 stars\":\n",
    "        print(\"correct = \", r) \n",
    "        print(\"guess = \", guess)\n",
    "        print(\"text = \", w)\n",
    "        print()"
   ]
  },
  {
   "cell_type": "markdown",
   "metadata": {},
   "source": [
    "the non 5 star reviews that were mislabelled seem to suffer from a different problem. At first glance looking through some of these reviews, all of them are really short. There simply isn't enough data in the review to get a good idea of whether it's a 5 star review or not. The reviews either seem to be obviously negative when you read them, but the classifier can't determine that with the amount of data it's given. Otherwise, these short reviews seem to be filled with positive reviews, making it seem super positive and giving the impression that it is a 5 star review. \n",
    "\n",
    "I decided to look deeper into the length of the reviews."
   ]
  },
  {
   "cell_type": "code",
   "execution_count": 26,
   "metadata": {},
   "outputs": [
    {
     "name": "stdout",
     "output_type": "stream",
     "text": [
      "5 star reviews mislabelled:  1437\n",
      "not 5 star reviews mislabelled  674\n"
     ]
    }
   ],
   "source": [
    "#Count the amount of each category that has been mislabelled\n",
    "five_count = 0\n",
    "nfive_count = 0\n",
    "for (r, guess, w) in errors:\n",
    "    if r == \"it has 5 stars\":\n",
    "        five_count = five_count + 1\n",
    "    if r == \"it does not have 5 stars\":\n",
    "        nfive_count = nfive_count + 1\n",
    "print(\"5 star reviews mislabelled: \", five_count)\n",
    "print(\"not 5 star reviews mislabelled \", nfive_count)"
   ]
  },
  {
   "cell_type": "code",
   "execution_count": 27,
   "metadata": {},
   "outputs": [
    {
     "name": "stdout",
     "output_type": "stream",
     "text": [
      "5 star reviews mislabelled average length:  651.0257480862908\n",
      "not 5 star reviews mislabelled average length:  426.7047477744807\n"
     ]
    }
   ],
   "source": [
    "# Finds the average length of each review\n",
    "avg_five = 0\n",
    "for (r, guess, w) in errors:\n",
    "    if r == \"it has 5 stars\":\n",
    "        avg_five = avg_five + len(w)\n",
    "avg_five = avg_five/1437\n",
    "print(\"5 star reviews mislabelled average length: \", avg_five)\n",
    "\n",
    "avg_nfive = 0\n",
    "for (r, guess, w) in errors:\n",
    "    if r == \"it does not have 5 stars\":\n",
    "        avg_nfive = avg_nfive + len(w)\n",
    "avg_nfive = avg_nfive/674\n",
    "print(\"not 5 star reviews mislabelled average length: \", avg_nfive)"
   ]
  },
  {
   "cell_type": "markdown",
   "metadata": {},
   "source": [
    "It was interesting that the naive bayes classifier mislabels 5 star reviews (1437) a lot more than mislabelling the not 5 star reviews (674). I used these numbers the help compute the average length of each review that has been misabelled. It is quite obvious that reviews that are not 5 stars but labelled as 5 stars are much shorter, which supports what I saw in the reviews."
   ]
  },
  {
   "cell_type": "code",
   "execution_count": 28,
   "metadata": {},
   "outputs": [
    {
     "name": "stdout",
     "output_type": "stream",
     "text": [
      "All mislabelled reviews average length:  579.4045476077688\n",
      "Correctly labelled reviews average length:  608.6154138674103\n"
     ]
    }
   ],
   "source": [
    "avg_error = 0\n",
    "for (r, guess, w) in errors:\n",
    "    avg_error = avg_error + len(w)\n",
    "avg_error = avg_error/2111\n",
    "print(\"All mislabelled reviews average length: \", avg_error)\n",
    "\n",
    "avg_correct = 0\n",
    "for (r, guess, w) in correct:\n",
    "    avg_correct = avg_correct + len(w)\n",
    "avg_correct = avg_correct/7889\n",
    "print(\"Correctly labelled reviews average length: \", avg_correct)"
   ]
  },
  {
   "cell_type": "markdown",
   "metadata": {},
   "source": [
    "Overall it is evident that where errors occured the reviews were shorter in length giving less features to work with, than ones which are correctly labelled. "
   ]
  },
  {
   "cell_type": "code",
   "execution_count": 29,
   "metadata": {},
   "outputs": [
    {
     "name": "stdout",
     "output_type": "stream",
     "text": [
      "Accuracy of dev-test set: 0.8128\n",
      "number of errors:  1872\n",
      "number of correct:  8128\n"
     ]
    }
   ],
   "source": [
    "print(\"Accuracy of dev-test set:\", accuracy_score([r for w, r in devtest], lr_classifier.predict(tfidf_devtest)))\n",
    "errors_2 = []\n",
    "correct_2 = []\n",
    "for w, r in devtest:\n",
    "    guess = lr_classifier.predict(tfidf.transform([w]))\n",
    "    if guess != r:\n",
    "        errors_2.append((r, guess, w))\n",
    "    else:\n",
    "        correct_2.append((r, guess, w))\n",
    "print(\"number of errors: \", len(errors_2))\n",
    "print(\"number of correct: \", len(correct_2))"
   ]
  },
  {
   "cell_type": "markdown",
   "metadata": {},
   "source": [
    "Followed the process for the logistic regression model."
   ]
  },
  {
   "cell_type": "code",
   "execution_count": 30,
   "metadata": {},
   "outputs": [
    {
     "name": "stdout",
     "output_type": "stream",
     "text": [
      "5 Star Reviews mislabelled\n",
      "\n",
      "correct =  it has 5 stars\n",
      "guess =  ['it does not have 5 stars']\n",
      "text =  I went to B&R with two coworkers who were visiting from another country.  We shared some appetizers (Tartar, Brussel Sprouts, Trio of Crostini), we each ordered an entree and a dessert.  Overall, an excellent experience.  The food was very good and I loved the cocktails.\n",
      "\n",
      "correct =  it has 5 stars\n",
      "guess =  ['it does not have 5 stars']\n",
      "text =  Visited Monday 11\\/9 because I had won a $20 gift certificate in a golf tournament.  Not knowing anything about the place, we were pleasantly surprised at the cleanliness of the bar\\/restaurant.  There were a few people out on the patio (smokers, kind of a turnoff) but we were planning on sitting inside anyhow.  The bartender\\/waitress was very friendly and attentive, which is always good!  We split a personal pizza, a salad and a Philly cheese steak sandwich. We got the thin crust pizza and I highly recommend you try it and it was cooked perfectly.  The Philly had a heap of meat on it and the roll it was served on was fresh and just really good.  The salad was also very fresh and they have really good Ranch dressing (and I am a Ranch snob!)  So, I would say this is better than just \"bar food\" it seems to be teetering on fresh ingredients and someone in the back does care about what they are doing.  I will be back for lunch and or dinner soon.\n",
      "\n",
      "correct =  it has 5 stars\n",
      "guess =  ['it does not have 5 stars']\n",
      "text =  We visited the Grand View buffet early in the evening, so it was not very crowded when we arrived. However, the dining room became quite busy later on. A buy-one-get-one free special was available on week days in January, making it quite affordable. We got two buffets for $20, along with nonalcoholic beverages that were included in the price! \n",
      "\n",
      "We were greeted upon arrival and were seated immediately. Our server was quite pleasant and efficient. She provided drink refills and cleared our table as needed. Employees at the various stations were also quite pleasant. They keep all food items well stocked throughout the evening. The view of the river from the large picture windows was an added bonus. \n",
      "\n",
      "There were various food stations available, including Asian (with stir-fried items which you select and have prepared while you wait), Italian, American, and BBQ. A large salad bar offered a variety of fresh salad items, along with soups and rolls. A carving station offered deliciously tender prime rib, as well as ham and turkey. The dessert station had a large variety of desserts attractively presented, with one dessert being served in small, plastic martini glasses. Several sugar-free desserts were also available, along with a nice variety of gelato. \n",
      "\n",
      "We thoroughly enjoyed our meals and look forward to eating here again in the near future.\n",
      "\n",
      "correct =  it has 5 stars\n",
      "guess =  ['it does not have 5 stars']\n",
      "text =  Yum! The hot pastrami sandwich was soooo tasty!  They were very busy on a Thursday night. We had to wait for menus and never saw a wine list but that wasn't a big deal. Service was good and I will definitely go back!\n",
      "\n",
      "correct =  it has 5 stars\n",
      "guess =  ['it does not have 5 stars']\n",
      "text =  Lunch during the week is great here. It is a laid back atmosphere, a mix of ole school music and really nice staff. The food is really good, although I am stuck on the country fried steak, I have tried other items. they serve good sized portions and it is reasonably priced. Great choices of food. this is close to work, service is fast (not fast food fast) but I can take my time eating and still get back to work on time. very satisfying experience. Just too bad there isn't a cot at work for the \"I have eaten well and am sleepy\" afternoon nap. I will continue to eat here until everyone else discovers this place and it gets too crowded.\n",
      "\n",
      "correct =  it has 5 stars\n",
      "guess =  ['it does not have 5 stars']\n",
      "text =  I LOVE this pool area.  So much fun and so pretty.  Lots of palms and sand for the little ones.  We have been here twice and both times they were playing great music in the background.  THe poolside drink service is really good too.  The girls are friendly and are around to check on you quite often.  I wish it stayed open later.  They close at 7 pm.  It would be a fun place to swim at night.\n",
      "\n",
      "correct =  it has 5 stars\n",
      "guess =  ['it does not have 5 stars']\n",
      "text =  Otroligt mysig bar i mysiga kvarter.\n",
      "\n",
      "Drinkarna är grymma och personalen supertrevlig.\n",
      "\n",
      "Priserna är runt 7 gbp och det är ett fynd i jämförelse med sveriges förskräckliga drinkpriser.\n",
      "\n",
      "correct =  it has 5 stars\n",
      "guess =  ['it does not have 5 stars']\n",
      "text =  Vraiment exceptionnel!! Les pops de Catherine sont une merveille pour les sens. On retrouve le goût des fruits authentiques grâce à des recettes santé qui laisse la place aux saveurs naturels. Exit le sucre artificiel qui gâche tout notre capacité à percevoir le goût. L'endroit est un petit coin de paradis caché, à quelques encablures du canal Lachine, à ne manquer sous aucun prétexte lors d'une ride de vélo!\n",
      "\n",
      "correct =  it has 5 stars\n",
      "guess =  ['it does not have 5 stars']\n",
      "text =  We found great deals and had some yummy Chinese food at the food court. I never go there without finding something to take home. Coach always has fun staff and I purchased my first Coach bag finally. Can't wait to go back!\n",
      "\n",
      "correct =  it has 5 stars\n",
      "guess =  ['it does not have 5 stars']\n",
      "text =  Although prices for this nail salon might be a tad bit higher (+$5 more) than other nail salons, it is quiet refreshing to go to a salon owned by two businesswomen.  They take pride in their business and provide impeccable work.  It is refreshing to actually hold a conversation with the person doing your nails rather than wonder if they are talking about your feet because you aren't sure what they are saying in another language. Make sure you make an appointment.  It is hard to walk-in if they are busy and have scheduled clients.  Will be back!\n",
      "\n",
      "correct =  it has 5 stars\n",
      "guess =  ['it does not have 5 stars']\n",
      "text =  I stopped here for coffee and a place to relax and wasn't disappointed at all.\n",
      "\n",
      "The latte was delicious and well-made, and the service was very friendly. If you're looking for a full breakfast menu, I wouldn't suggest this cafe, but would recommend for a pastry and cup of coffee.\n",
      "\n",
      "correct =  it has 5 stars\n",
      "guess =  ['it does not have 5 stars']\n",
      "text =  i love yama sushi!!!! the all you can eat includes so much, from appetizers to soup to mochi ice cream!\n",
      "\n",
      "The quality of the sushi is very good given the price. They offer many creative and funnily named rolls. I recommend the no name roll and whose your daddy roll. I also love their seafood salad, its basically a sashimi salad topped with some shrimp tempura. However, be wary of their spicy grade, the two times I've ordered the seafood salad mild and found it too spicy to eat more than a few bites.\n",
      "\n",
      "When it gets busy, service can get really slow, however the fact that the waitresses have the foresight to incrementally send in your orders, anticipating that you will get too full and want to cancel part of your order, makes up for the spotty service. Putting up with slow service beats wasting (and paying for) lots of untouched sushi or eating until your stomach explodes\n",
      "\n",
      "correct =  it has 5 stars\n",
      "guess =  ['it does not have 5 stars']\n",
      "text =  As far as I know this is the only place in Ontario or Quebec that carries Whitelines notebooks (http:\\/\\/www.whitelines.se), which I've been obsessed with for the past year. When I discovered this via the distribution page, I promptly planned a trip to Montreal to stock up on these fine notebooks. OK fine - I wasn't *that* impulsive, but I did incorporate my burning yen for pale-lined graph paper notebooks into my trip plan.\n",
      "\n",
      "Montreal already has Essence Du Papier, which carries many, many brands of journals, agendas and fountain pens by reputable brands like Clairefontaine and Moleskine, but Nota Bene has so much more.\n",
      "\n",
      "First of all, the store is pristine and everything is wonderfully organized. There are so many goddman notebooks to choose from you won't be able to settle on just one. I was in such a tizzy over the availability of the notebooks that the owner could hardly contain her giggles. She was incredibly friendly and accommodating, and even alerted me to the fact that the store has an online shop and delivers to Toronto. The upstairs was being used as an art space when I visited. Cool idea.\n",
      "\n",
      "I ended up leaving with some Danish and German graph paper notebooks that were on sale for only $4 each, as well as some ink refills for my Lamy fountain pen and of course, the aforementioned Whitelines notebooks. I pretty much bought out the store. Trust me when I say these books are the BEST. The paper quality is unparalleled and it's such a treat to write on graph paper, without the distracting and harsh dark lines. The paper also photocopies or scans blank, meaning the lines disappear, giving the illusion of plain white paper.\n",
      "\n",
      "correct =  it has 5 stars\n",
      "guess =  ['it does not have 5 stars']\n",
      "text =  So, I had a job interview early this morning.  I forgot to print the attachment yesterday, and when I got up this morning, I almost had a heart attack!! I looked to see what kinko's was open early (as most of them are) but was close to where I was interviewing at.\n",
      "\n",
      "For starters, they open at 6AM. This, my friend, is a huge lifesaver!  I called them first thing, and talked to a really nice guy and got the email address for the store itself. I told him that I would be there in half an hour to pick it up on my way in.  He was really cool, and helped me out with what I needed.  After I emailed him, I called the store back and made sure they got it. I gave him my name and told him I'd be there in half an hour.\n",
      "\n",
      "I walked in, literally 30 minutes later and the paperwork was ready. Granted, it's not a huge complicated project, but being that I didn't bother to check the night before, it was last minute on my part and lack of preparedness.  I grabbed the paperwork, paid the $$ and took off, all in a matter of minutes.\n",
      "\n",
      "Thank you Kinko's for saving my ass.  Thank you for being open early and being quick and cool about stuff, and helping a sister out.  I don't know what I would have done of they weren't open so early and so readily available to help.\n",
      "\n",
      "correct =  it has 5 stars\n",
      "guess =  ['it does not have 5 stars']\n",
      "text =  It's nice to go to an Italian restaurant where they actually know how to prepare the pasta.  No mushy gross noodles here.  If you really want to do it up right...order the cherries jubilee.  Made at the table - it's like performance art!  Banana's foster is good, too.\n",
      "\n",
      "correct =  it has 5 stars\n",
      "guess =  ['it does not have 5 stars']\n",
      "text =  It is the perfect mix of fast food and authentic. Everything tastes a lot more authentic Than another place such as panda express. Although that does come with the drawback of being more expensive as well (but very much worth it.) All the workers work fast and are nice. They have A LOT of menu options. And it is overall a very good experience.  Its fast like fastfood but is more like professionally cooked chinese food. 5 stars all the way. (Still have yet to be disappointed)\n",
      "\n",
      "correct =  it has 5 stars\n",
      "guess =  ['it does not have 5 stars']\n",
      "text =  The service was quick and effective. From beginning to end, the quality of service I received was great. The representative I spoke to was accommodating and helpful. They found potential leasees and schedules viewings. I had at least one viewing per week. Take Over Lease takes away all the hassles of having to find a leasee. I had 3 people take a look at my apartment transferred my lease in about a month. I'd say that pretty quick considering I wouldn't have been able to source quality take overs myself.\n",
      "\n",
      "correct =  it has 5 stars\n",
      "guess =  ['it does not have 5 stars']\n",
      "text =  Love the AYCE menu. Great price with good options. The staff has always been nice & fast on refills or getting your orders put in & to you. Definitely our go to for sushi.\n",
      "\n",
      "correct =  it has 5 stars\n",
      "guess =  ['it does not have 5 stars']\n",
      "text =  It was pretty cool to see Star Wars The Force Awakens on its opening weekend at the newest and nicest theater in town. The theater is located at the Northeast end of Scottsdale Fashion Square Mall and you can enter from the mall or directly from the parking garage on the North side of the mall. The theater itself is very nice. The lobby includes seating areas, a bar with dessert selections, an outdoor patio, customer service, and a concession stand with standard movie fare like popcorn, sodas, and candies. What it is not is a movie theater with waiter service where they deliver food and drinks to your seat and that's fine with me, I've been to those places and while the waiters are usually fairly discreet, the other patrons trying to flag them down, pick up and put down their food, or sending back orders is what is generally very annoying. If you want dinner and movie that's fine, but do it somewhere else!\n",
      "\n",
      "As for the theater experience itself, it was amazing! First of all, there is reserved seating so you can select where you want to sit and know it will be available. Secondly, the screens are curved for optimal viewing and the sound quality is amazing. Finally, the seats recline... and this isn't just leaning back, it's motorized loungers with footrests that come out and backs that go back so far you're almost lying down. In fact, the only drawback I can foresee is that because this theater will be showing art films, and the average age of the audience at those films is fairly old, it's quite possible that some people may find themselves falling asleep or sitting next to a snorer in this theater. \n",
      "\n",
      "Overall though, this is an amazing place to see a movie and a worthy successor to the original Camelview. Once again we should be grateful that we have a chain like Harkins based in the Valley which provides us with great options for moviegoing.\n",
      "\n",
      "correct =  it has 5 stars\n",
      "guess =  ['it does not have 5 stars']\n",
      "text =  The Double Down Saloon is truly one of \" the happiest places on Earth.\" The outside facade of the bar displays this slogan in bright white capital letters. \n",
      "My college buddy and a couple of friends from my neighborhood know my style fairly well. I do need to be happy especially at times like this. \n",
      "The Double Down Saloon is my kind of bar. Pool table, a great jukebox easy on the attitude.  \n",
      "The locals prefer to go with the special which is the Schlitz and the ass juice. Formulated differently each night.....the only important criteria for ass juice is that it be pinkish brown and go well with beer.  \n",
      "Oh yeah, it was indeed appropriately named. The combination of beer and a sweet concoction of 'god knows what' was actually quite good. \n",
      "My Vegas friends tell me all the time to get away from that awful strip for awhile to maintain my sanity here and here's where you do it. The Double  Down Saloon. \n",
      "Although the Double Down doesn't serve food I believe its a city ordinanace in Las Vegas that any business not involving pre-school children provide gambling opportunities \n",
      "What impressed me was the local folk. Always eager to lend a helping hand. By this, I mean the gambling aspect. The bar is aligned with all kinds of slot machines and games I don't know how to play, however my new friends (Lisa and Rachel) were there for the rescue. \n",
      "Lisa asks me if we are looking for some local stuff to do. My friend answers by saying \" we need to keep his mind clean and pure away from that nasty strip.\"\n",
      "Lisa and Rachel quickly say \" yeah, I agree, we can help you guys with that. Well, we have to take off but it was really good meeting you and your friend. Here is my number. Definitely give me a call if you're interested in checking out the real Las Vegas \"\n",
      "Should I befriend these ladies? My buddy says \"always.\" I say \" so we should call these two up?\" \n",
      "He says \" yeah, sure, why not? I trust them .\" \n",
      "First of all, I'm going to enjoy my time at the Double Down and then I'll think about calling. I want to look around \" the happiest place on Earth \" for awhile because this place is one of a kind. Graffiti walls, stickers on every inch inside and hanging ornaments give this place a dirty and cheap look but in a good way. We also heard from other local people that rock\\/ punk metal bands play until 3am or even 4am! That's unheard of in L.A.!     \n",
      "After a couple of rounds of ass juice and Schlitz. My party and I decide to take off . I admit after leaving the \"happiest place on Earth.\" I felt strangely happy.\n",
      "\n",
      "correct =  it has 5 stars\n",
      "guess =  ['it does not have 5 stars']\n",
      "text =  Nicely done Eastern European cuisine!\n",
      "Cold beet soup was fantastic, great for hot summer days. Russian meatballs with buckwheat were just like my grandmother used to make.\n",
      "Definitely will be back to try their other menu items.\n",
      "\n",
      "correct =  it has 5 stars\n",
      "guess =  ['it does not have 5 stars']\n",
      "text =  Did not disappoint!  \n",
      "\n",
      "I came here this past weekend with my boyfriend for my birthday weekend getaway.  I made a reservation for a Sunday night at 7pm about a month ago.  The place was busy when we got there but got steadily more busy as the night progressed.  \n",
      "\n",
      "We ordered the smallest cold seafood platter as an appetizer (6 oysters, 6 jumbo shrimp & 6 king crab legs).  It was very good, though I wasn't thrilled with the cocktail sauce they served and would have liked more horseradish.  The seafood was fresh and very tasty!\n",
      "\n",
      "We drank dirty martini's with our app.  These could have been dirtier - very stingy on the olive juice but i guess I like my dirty's on the filthier side and I should have mentioned it when i ordered.\n",
      "\n",
      "For main course we shared two appetizers and I am glad we did because they were very large.  We had the lobster poutine which was AMAZING with huge chunks of lobster meat.  This did NOT taste like lobster from the can (as per previous reviewer).  It was fresh and juicy and the chunks were huge!  lots more lobster in here than fries!  We also had the tomato salad app with fried chedder cheese squares & avocado!  WOw great compliment to the poutine.  So fresh and delicious!  We each drank sauvignon blanc with the meal which was a nice complement.  \n",
      "\n",
      "Our server was very good although I think she was a bit disappointed that we did not order full main courses on top of the raw apps and appetizer portion main courses.  Honestly we were so stuffed we didn't even finish it & the total still topped out at almost $200 so hopefully that shrug and upturn of the nose I noticed after I acknowledged her \"is that all?\" with a nod was just my imagination.  \n",
      "\n",
      "It doesn't matter, the food was worth it and if I ever find myself in Montreal again I will beeline it to this spot.  Best meal in town!\n",
      "\n",
      "correct =  it has 5 stars\n",
      "guess =  ['it does not have 5 stars']\n",
      "text =  Very delishes!! So authentic and fresh!\n",
      "Had their calamari and chicken Alfredo added some shrimp and came out so good!\n",
      "Definetly will be back!\n",
      "\n",
      "correct =  it has 5 stars\n",
      "guess =  ['it does not have 5 stars']\n",
      "text =  I seldom give anything 5 stars as it begs no room for improvement. Bottom line is this is the best Residence Inn I've been to. Have stayed at least 5 times. Great lobby, dining, office area. Also has billiard\\/theater room. Staff very accommodating! Walking distance to PNC and Heinz Field as well as many restaurants. Convenient to all Greater Pitt Are location with exception of rush hour traffic.\n",
      "\n"
     ]
    }
   ],
   "source": [
    "print(\"5 Star Reviews mislabelled\")\n",
    "print()\n",
    "for (r, guess, w) in errors_2[:50]:\n",
    "    if r == \"it has 5 stars\":\n",
    "        print(\"correct = \", r) \n",
    "        print(\"guess = \", guess)\n",
    "        print(\"text = \", w)\n",
    "        print()"
   ]
  },
  {
   "cell_type": "code",
   "execution_count": 31,
   "metadata": {
    "scrolled": true
   },
   "outputs": [
    {
     "name": "stdout",
     "output_type": "stream",
     "text": [
      "not 5 Star Reviews mislabelled\n",
      "\n",
      "correct =  it does not have 5 stars\n",
      "guess =  ['it has 5 stars']\n",
      "text =  Our first visit.  The steak was good.  The chili, DENNISON'S.  I have eaten Dennison's chili my whole life. I buy it at Fry's.  The service was very good and a beautiful restaurant.\n",
      "\n",
      "correct =  it does not have 5 stars\n",
      "guess =  ['it has 5 stars']\n",
      "text =  Fast, clean and gorgeous work done by friendly staff. If I lived in town, this would be my spot.\n",
      "\n",
      "correct =  it does not have 5 stars\n",
      "guess =  ['it has 5 stars']\n",
      "text =  My husband and I found this place through Groupon and are very glad we did!  We ordered some of the chef special rolls and they were phenomenal!  Really good.  Portions were big without overloading with rice!  We'll definately be going back!\n",
      "\n",
      "correct =  it does not have 5 stars\n",
      "guess =  ['it has 5 stars']\n",
      "text =  Stopped in today for the first time on a walk to the library. We got there late in the afternoon and all of the daily flavors were gone except for the toasted almond crunch. The cupcake was flavorful and moist with a cream frosting, topped with shaved toasted almonds. Definite flavor explosion from the first bite to the last. I only wish we had gotten there earlier to try some of the others. The owner is very perky, friendly and sweet.\n",
      "FYI-Tuesday is vegan day at the bakery.\n",
      "\n",
      "correct =  it does not have 5 stars\n",
      "guess =  ['it has 5 stars']\n",
      "text =  I love this burrito joint! I find it odd that it's across from Fat Bastard Burritos, which is its nemesis. I guess they're super competitive with one another... \n",
      "\n",
      "The service here is friendly! They always make sure you are acknowledged and take your order as quickly as possible.\n",
      "\n",
      "I had a chicken and sweet potato burrito, and it was yummy! Nothing that would scream \"omg best freaking burrito in all of the GTA\", but it left my tummy and my taste buds quite satisfied. It had a good savoury flavour, and the chicken and sweet potato combo really kicked it up a notch. Might I mention that the portion was pretty hefty! I got full just about eating 70% of the burrito. It was inexpensive too...score!\n",
      "\n",
      "correct =  it does not have 5 stars\n",
      "guess =  ['it has 5 stars']\n",
      "text =  I normally get the chili cheese tots, but this time was all about the Oreo Peanut Butter Shake. It totally hit the spot. I am one happy customer today.\n",
      "\n",
      "correct =  it does not have 5 stars\n",
      "guess =  ['it has 5 stars']\n",
      "text =  Coming From Cali, to celebrate our anniversary and of course watch a steeler game.  Place is nice and cozy. Food is delicious. Mac n cheese get it! Oh and also the marrow!!\n",
      "\n",
      "correct =  it does not have 5 stars\n",
      "guess =  ['it has 5 stars']\n",
      "text =  Allgemein\n",
      "Die beste Lage auf dem Marktplatz. Leckeres, durch die Tageskarte sehr abwechslungsreiches Essen. Preise sind super für die Lage! Auch das Frühstück ist empfehlenswert.\n",
      "Bedienung\n",
      "Personal ist Okey. Man bekommt jedoch alles zügig und sie sind bemüht.\n",
      "Das Essen\n",
      "Kleine aber abwechslungsreiche Karte . Leckere Salate, mein Favorit: maultaschen salat ;)\n",
      "Das Ambiente\n",
      "Super Lage, Vorallem im Sommer ein Genuss! Urlaubsatmosphäre direkt am Marktplatz\n",
      "Sauberkeit\n",
      "Sehr sauber und ordentlich\n",
      "\n",
      "correct =  it does not have 5 stars\n",
      "guess =  ['it has 5 stars']\n",
      "text =  Wow. This Cirque show has impressed beyond what we've been to so far (Ka, etc).\n",
      "\n",
      "I think the first impression I have is that all the music and singing is live. To be able to synch such with the performers takes a lot of practice and skill.\n",
      "\n",
      "The second best feature is the great feats of human conditioning and athletesism that show through each act and performance. Watching two people balance one another into unbelieveable forms or watching a person juggle a giant 3d style box while suspended is just amazing.\n",
      "\n",
      "So many great performances and acts to be seen in this show. Definitely worth the price you pay to watch.\n",
      "\n",
      "correct =  it does not have 5 stars\n",
      "guess =  ['it has 5 stars']\n",
      "text =  Health nut is perfect to start the day\n",
      "\n",
      "correct =  it does not have 5 stars\n",
      "guess =  ['it has 5 stars']\n",
      "text =  Good Eats.\n",
      "\n",
      "This is a nice easy place to eat.  The foodstyle style is a homemade feeling .. and its very nicely priced.  Great easy eats.\n",
      "\n",
      "correct =  it does not have 5 stars\n",
      "guess =  ['it has 5 stars']\n",
      "text =  I love when the Greek food festival is here and I go every year.  They have kids dancing every night dressed in traditional outfits - it's always so cute to see the little ones.\n",
      "\n",
      "Now for the food - the souvlakia (marinated lamb cube dinner) is to die for. It's so tasty I get it to go every year for my hubby but end up eating half of it because it's so good.  It comes with rice pilaf.  I usually add the green beans and zucchini yiahni-if you haven't had it, try it-so tasty.  For my meal I usually get a couple of items a la carte which is great because you can taste a bit of everything and take it to go if you don't finish. I love the moussaka (like an eggplant lasagna), spanakopita (spinach and feta baked in phyllo) and souzoukakia (meatballs simmered in a red tomato sauce).  The spanakopita is my favorite.  \n",
      "\n",
      "For desserts, the must haves are the loukoumades (fried honey balls that are heavenly) and the galatoboureko (custard baked in phyllo with powdered sugar on top). I forget every year that I love it and only get 1 piece - next year I'm getting 5!!\n",
      "\n",
      "I always want to get a gyro from outside but by the time I leave I'm so full I can't wait in the huge line because I just want to go home and take my pants off because I'm too full.  Maybe next year I'll smarten up because it always smells so good walking past it.\n",
      "\n",
      "correct =  it does not have 5 stars\n",
      "guess =  ['it has 5 stars']\n",
      "text =  Food is authentic and really good. The buffet is awesome!!! If you have never had middle eastern food, i recommend the buffet! A little bit of everything to try.  Prices are reasonable too... Will be coming back, A LOT!to this establishment!!!\n",
      "\n",
      "correct =  it does not have 5 stars\n",
      "guess =  ['it has 5 stars']\n",
      "text =  Brought our dog here during the Christmas week because everywhere else was booked. When I brought him in for orientation the people working there was awesome, nice and friendly so I felt welcomed. When I brought him in for his stay for about 8 days, the package that I bought said it came with a picture a day which was awesome because we get to see him everyday. The first few days we got different pics of him, then towards the end of the stay we received 3 of the same pics but with 3 different borders just on different days. So at this point I'm worried because I don't know if he is ok because why would you send us 3 pictures that are EXACTLY the same but try and fool us by putting 3 different borders to make it seem like it's a different picture, but the person sending the picture swears it was 3 different photos. Overall the staff I interacted with was awesome.\n",
      "\n",
      "correct =  it does not have 5 stars\n",
      "guess =  ['it has 5 stars']\n",
      "text =  new look (looks like the one at Yorkdale) with the same great vibe and excellent style. The people have always been friendly and still are. There are lots of great stuff (some on sale) it's a must stop in when here at sherway.\n",
      "\n",
      "correct =  it does not have 5 stars\n",
      "guess =  ['it has 5 stars']\n",
      "text =  Very comfortable space with friendly staff. Wait time between appointments or part of same appointment on same day was a little long. Jackie the dental hygienist is the best and truly leads with care and kindness! I've been 3 times for multiple kinds of work and Jackie took the most care in my pain management and long term plans. They seem to be a little overwhelmed with only one dentist right now which made it not so timely but he was friendly and precise.\n",
      "\n",
      "correct =  it does not have 5 stars\n",
      "guess =  ['it has 5 stars']\n",
      "text =  Great Indian cuisine in Richmond Hill!  They have a lunch express which was a great portion.  Food was fresh and tasty.  Took a little long to prepare, but was worth the wait.\n",
      "\n",
      "correct =  it does not have 5 stars\n",
      "guess =  ['it has 5 stars']\n",
      "text =  It's easy to fall in love with this place. I've eaten here quite a few times, and I'm sure that I'll be back. The food is hearty - meat eaters have nothing to fear from this place.\n",
      "\n",
      "The price is not super cheap, but for the quality of food you get, I'm very happy with it. Service is casual and the setting is chill, so it's a comfortable environment all around.\n",
      "\n",
      "correct =  it does not have 5 stars\n",
      "guess =  ['it has 5 stars']\n",
      "text =  I recently came to herbal nails for a pedicure. My nail tech did a great job and was super nice, complimented the color I chose and made sure to do an extra thorough job on my massage. I thought the service was fine, and the sugar scrub and hot stones were definitely an extra treat for me, but I was a little sad that nobody offered me a wine, as that is apparently *the* big perk of coming to herbal, and is included in the lofty price.\n",
      "\n",
      "correct =  it does not have 5 stars\n",
      "guess =  ['it has 5 stars']\n",
      "text =  Tasty Kabob is a must see on any Hookah bar tour. They serve food, coffee and alcoholic beverages for those of age. In addition, the Hookahs are top notch. Now on to the food! Ever had Saffron Rice or Chargrilled Steak, Chicken or Pork? Try any of the Kabob platters, very good!  Also they have the best Persian Ice Cream which is only one flavor....what is the flavor??....(its a secret, you will have to go there and find out!) Prices are moderate for a dinner for two, atmosphere is casual enough to be a great first date place (attention cheesy guys) and they are rarely busy so cosy dates can become sweet and innocent. \n",
      "For persian cuisine in the East Valley this place is a must.\n",
      "\n",
      "correct =  it does not have 5 stars\n",
      "guess =  ['it has 5 stars']\n",
      "text =  Very cute place, owners are super friendly. I do suggest trying the Vanilla Frappe. Was delicious, same with the chocolate chunk cookies! This is right across the street from my workplace and I have been here a few times for coffee. Always very pleasant :)\n",
      "\n",
      "correct =  it does not have 5 stars\n",
      "guess =  ['it has 5 stars']\n",
      "text =  Highly recommend David. He is my personal barber for the last 7 years or so. Super nice guy, very friendly, knows what he is doing. This review is actually mostly for David, lol. He keeps moving around to different places. I started going to him when he first worked here, then he moved to two different barbershops and I followed him there, and now he's back at Chandler Mall.\n",
      "\n",
      "So David gets 5 stars.\n",
      "The one star deduction is because this barbershop in the mall is starting to feel a little run down. It needs some much  needed renovations.\n",
      "\n",
      "correct =  it does not have 5 stars\n",
      "guess =  ['it has 5 stars']\n",
      "text =  This is a nice farm nestled in the country outside Asheville. You will find many of the local restaurants use locally sourced meats from Hickory Nut. There is something for all ages at Hickory Nut. You can visit with the animals in the barn, make friends with the ones roaming the grounds or wander the farms maze and pick some produce. My favorite was the market area where you can buy your own fresh meat.\n",
      "\n",
      "correct =  it does not have 5 stars\n",
      "guess =  ['it has 5 stars']\n",
      "text =  Huge portions!! Absolutely filling. But you do need to realise after your 200th bite, you're still eating the same thing. It's best to share various flavours with friends to enlighten your tastebuds throughout your meal.\n",
      "\n",
      "correct =  it does not have 5 stars\n",
      "guess =  ['it has 5 stars']\n",
      "text =  Extremely delicious treats, it's honestly heaven for anyone who is vegan\\/gluten free.  Totally would recommend however it is a little pricey but really worth it.\n",
      "\n",
      "correct =  it does not have 5 stars\n",
      "guess =  ['it has 5 stars']\n",
      "text =  Electric eye failed. Doug, the owner came out and checked the door, diagnosed the problem and had Shawn come by the next day with parts.\n",
      "\n"
     ]
    }
   ],
   "source": [
    "print(\"not 5 Star Reviews mislabelled\")\n",
    "print()\n",
    "for (r, guess, w) in errors_2[:50]:\n",
    "    if r == \"it does not have 5 stars\":\n",
    "        print(\"correct = \", r) \n",
    "        print(\"guess = \", guess)\n",
    "        print(\"text = \", w)\n",
    "        print()"
   ]
  },
  {
   "cell_type": "markdown",
   "metadata": {},
   "source": [
    "Looking at both sets of mislabelled reviws in logistic regression, they follow the same trends and problems that the naive bayes classifier had."
   ]
  },
  {
   "cell_type": "code",
   "execution_count": 32,
   "metadata": {},
   "outputs": [
    {
     "name": "stdout",
     "output_type": "stream",
     "text": [
      "5 star reviews mislabelled:  996\n",
      "not 5 star reviews mislabelled  876\n"
     ]
    }
   ],
   "source": [
    "five_count_2 = 0\n",
    "nfive_count_2 = 0\n",
    "for (r, guess, w) in errors_2:\n",
    "    if r == \"it has 5 stars\":\n",
    "        five_count_2 = five_count_2 + 1\n",
    "    if r == \"it does not have 5 stars\":\n",
    "        nfive_count_2 = nfive_count_2 + 1\n",
    "print(\"5 star reviews mislabelled: \", five_count_2)\n",
    "print(\"not 5 star reviews mislabelled \", nfive_count_2)"
   ]
  },
  {
   "cell_type": "markdown",
   "metadata": {},
   "source": [
    "the gap between the two categories is much smaller on the logistic regression than on the naive bayes classifier."
   ]
  },
  {
   "cell_type": "code",
   "execution_count": 33,
   "metadata": {},
   "outputs": [
    {
     "name": "stdout",
     "output_type": "stream",
     "text": [
      "5 star reviews mislabelled average length:  626.5773092369478\n",
      "not 5 star reviews mislabelled average length:  497.43607305936075\n"
     ]
    }
   ],
   "source": [
    "avg_five_2 = 0\n",
    "for (r, guess, w) in errors_2:\n",
    "    if r == \"it has 5 stars\":\n",
    "        avg_five_2 = avg_five_2 + len(w)\n",
    "avg_five_2 = avg_five_2/996\n",
    "print(\"5 star reviews mislabelled average length: \", avg_five_2)\n",
    "\n",
    "avg_nfive_2 = 0\n",
    "for (r, guess, w) in errors_2:\n",
    "    if r == \"it does not have 5 stars\":\n",
    "        avg_nfive_2 = avg_nfive_2 + len(w)\n",
    "avg_nfive_2 = avg_nfive_2/876\n",
    "print(\"not 5 star reviews mislabelled average length: \", avg_nfive_2)"
   ]
  },
  {
   "cell_type": "markdown",
   "metadata": {},
   "source": [
    "Once again, we see that the average length of the reviews that are not 5 stars but are mislabelled, are much shorter than the 5 star reviews that have been mislabelled."
   ]
  },
  {
   "cell_type": "code",
   "execution_count": 34,
   "metadata": {},
   "outputs": [
    {
     "name": "stdout",
     "output_type": "stream",
     "text": [
      "All mislabelled reviews average length:  566.1458333333334\n",
      "Correctly labelled reviews average length:  590.7193651574803\n"
     ]
    }
   ],
   "source": [
    "avg_error_2 = 0\n",
    "for (r, guess, w) in errors_2:\n",
    "    avg_error_2 = avg_error_2 + len(w)\n",
    "avg_error_2 = avg_error_2/1872\n",
    "print(\"All mislabelled reviews average length: \", avg_error_2)\n",
    "\n",
    "avg_correct_2 = 0\n",
    "for (r, guess, w) in correct:\n",
    "    avg_correct_2 = avg_correct_2 + len(w)\n",
    "avg_correct_2 = avg_correct_2/8128\n",
    "print(\"Correctly labelled reviews average length: \", avg_correct_2)"
   ]
  },
  {
   "cell_type": "markdown",
   "metadata": {},
   "source": [
    "Reviews overall suffer the same issue in the logistic regression as it did in the naive bayes classifier, with the mislabelled reviews being shorter than those that are labelled correctly."
   ]
  },
  {
   "cell_type": "markdown",
   "metadata": {},
   "source": [
    "### 2. Explanation of the Proposed New Classifier"
   ]
  },
  {
   "cell_type": "markdown",
   "metadata": {},
   "source": [
    "Overall, it seems that the errors and mislabelling are coming from two possibitlies - \n",
    "    - The review is not long enough to make an accurate prediction on whether it is 5 stars or not. \n",
    "    - The language used in the review is predominately neutral and makes it difficult to categerise it.\n",
    "    \n",
    "I think adding in the sentiment value of each review will help determine what sort of review it is. The polarity scores in sentiment analysis is a good indicator of how positive, neutral or negative a review is. \n",
    "\n",
    "Also combining this with the tfidf will help use only the most common and important words that can make it easier for the sentiment analysis, eliminating many neutral stopwords."
   ]
  },
  {
   "cell_type": "markdown",
   "metadata": {},
   "source": [
    "### 3. Code of the Proposed New Classifier"
   ]
  },
  {
   "cell_type": "code",
   "execution_count": 35,
   "metadata": {
    "collapsed": true
   },
   "outputs": [],
   "source": [
    "from textblob import TextBlob"
   ]
  },
  {
   "cell_type": "code",
   "execution_count": 36,
   "metadata": {
    "collapsed": true
   },
   "outputs": [],
   "source": [
    "sent_train = []\n",
    "for w,r in train:\n",
    "    # Find the sentiment value of each review\n",
    "    sentiment = (TextBlob(w).sentiment.polarity)\n",
    "    sent_train.append(sentiment)\n",
    "    \n",
    "sent_devtest = []\n",
    "for w,r in devtest:\n",
    "    sentiment = (TextBlob(w).sentiment.polarity)\n",
    "    sent_devtest.append(sentiment)\n",
    "    \n",
    "sent_test = []\n",
    "for w,r in test:\n",
    "    sentiment = (TextBlob(w).sentiment.polarity)\n",
    "    sent_test.append(sentiment)"
   ]
  },
  {
   "cell_type": "markdown",
   "metadata": {},
   "source": [
    "Created a list of all the sentiment values for each of the data sets."
   ]
  },
  {
   "cell_type": "code",
   "execution_count": 37,
   "metadata": {
    "collapsed": true
   },
   "outputs": [],
   "source": [
    "import scipy as sp\n",
    "import numpy as np"
   ]
  },
  {
   "cell_type": "code",
   "execution_count": 38,
   "metadata": {},
   "outputs": [
    {
     "name": "stdout",
     "output_type": "stream",
     "text": [
      "Train Shape\n",
      "(500000, 2000)\n",
      "(500000, 1)\n",
      "(500000, 2001)\n",
      "\n",
      "Devtest Shape\n",
      "(10000, 2000)\n",
      "(10000, 1)\n",
      "(10000, 2001)\n",
      "\n",
      "Test Shape\n",
      "(10000, 2000)\n",
      "(10000, 1)\n",
      "(10000, 2001)\n"
     ]
    }
   ],
   "source": [
    "print(\"Train Shape\")\n",
    "print(tfidf_train.shape)\n",
    "# Put the list into an array\n",
    "train_col = np.array([[s] for s in sent_train])\n",
    "print(train_col.shape)\n",
    "# Combine the tfidf and sentiment values into one array\n",
    "final_train = sp.sparse.hstack((tfidf_train, train_col))\n",
    "print(final_train.shape)\n",
    "\n",
    "print()\n",
    "print(\"Devtest Shape\")\n",
    "print(tfidf_devtest.shape)\n",
    "devtest_col = np.array([[s] for s in sent_devtest])\n",
    "print(devtest_col.shape)\n",
    "final_devtest = sp.sparse.hstack((tfidf_devtest, devtest_col))\n",
    "print(final_devtest.shape)\n",
    "\n",
    "print()\n",
    "print(\"Test Shape\")\n",
    "print(tfidf_test.shape)\n",
    "test_col = np.array([[s] for s in sent_test])\n",
    "print(test_col.shape)\n",
    "final_test = sp.sparse.hstack((tfidf_test, test_col))\n",
    "print(final_test.shape)"
   ]
  },
  {
   "cell_type": "markdown",
   "metadata": {},
   "source": [
    "I was running into a lot of errors regarding the shape of the data, and if it was an array or not. The code above puts the list of sentiment values into an array, and the reshapes it so it that it fits with the tfidf data so that they can be merged together."
   ]
  },
  {
   "cell_type": "code",
   "execution_count": 39,
   "metadata": {},
   "outputs": [
    {
     "data": {
      "text/plain": [
       "LogisticRegression(C=1.0, class_weight=None, dual=False, fit_intercept=True,\n",
       "          intercept_scaling=1, max_iter=100, multi_class='ovr', n_jobs=1,\n",
       "          penalty='l2', random_state=None, solver='liblinear', tol=0.0001,\n",
       "          verbose=0, warm_start=False)"
      ]
     },
     "execution_count": 39,
     "metadata": {},
     "output_type": "execute_result"
    }
   ],
   "source": [
    "# New logistic regression classifier\n",
    "lr_classifier_sent = LogisticRegression()\n",
    "lr_classifier_sent.fit(final_train, [r for w, r in train])"
   ]
  },
  {
   "cell_type": "markdown",
   "metadata": {},
   "source": [
    "Decided to use the Logistion regression classifier, since it seemed to be slightly more accurate overall."
   ]
  },
  {
   "cell_type": "code",
   "execution_count": 40,
   "metadata": {},
   "outputs": [
    {
     "name": "stdout",
     "output_type": "stream",
     "text": [
      "Train Set\n",
      "                          precision    recall  f1-score   support\n",
      "\n",
      "it does not have 5 stars       0.84      0.85      0.84    285795\n",
      "          it has 5 stars       0.80      0.78      0.79    214205\n",
      "\n",
      "             avg / total       0.82      0.82      0.82    500000\n",
      "\n",
      "\n",
      "Devtest Set\n",
      "                          precision    recall  f1-score   support\n",
      "\n",
      "it does not have 5 stars       0.83      0.84      0.84      5725\n",
      "          it has 5 stars       0.79      0.77      0.78      4275\n",
      "\n",
      "             avg / total       0.81      0.81      0.81     10000\n",
      "\n",
      "\n",
      "Test Set\n",
      "                          precision    recall  f1-score   support\n",
      "\n",
      "it does not have 5 stars       0.83      0.86      0.84      5676\n",
      "          it has 5 stars       0.80      0.77      0.79      4324\n",
      "\n",
      "             avg / total       0.82      0.82      0.82     10000\n",
      "\n"
     ]
    }
   ],
   "source": [
    "# New classification reports based off logistic regression classifier\n",
    "print(\"Train Set\")\n",
    "print(classification_report([r for w,r in train], lr_classifier_sent.predict(final_train)))\n",
    "\n",
    "print()\n",
    "print(\"Devtest Set\")\n",
    "print(classification_report([r for w,r in devtest], lr_classifier_sent.predict(final_devtest)))\n",
    "\n",
    "print()\n",
    "print(\"Test Set\")\n",
    "print(classification_report([r for w,r in test], lr_classifier_sent.predict(final_test)))"
   ]
  },
  {
   "cell_type": "markdown",
   "metadata": {},
   "source": [
    "### 4. Evaluation and Comparison"
   ]
  },
  {
   "cell_type": "code",
   "execution_count": 41,
   "metadata": {},
   "outputs": [
    {
     "name": "stdout",
     "output_type": "stream",
     "text": [
      "Train Comparison\n",
      "Old Classifier:  0.818072\n",
      "New Classifier:  0.820112\n",
      "\n",
      "Devtest Comparison\n",
      "Old Classifier:  0.8128\n",
      "New Classifier:  0.8127\n",
      "\n",
      "Test Comparison\n",
      "Old Classifier:  0.816\n",
      "New Classifier:  0.8203\n"
     ]
    }
   ],
   "source": [
    "print(\"Train Comparison\")\n",
    "print(\"Old Classifier: \", accuracy_score([r for w, r in train], lr_classifier.predict(tfidf_train)))\n",
    "print(\"New Classifier: \", accuracy_score([r for w, r in train], lr_classifier_sent.predict(final_train)))\n",
    "\n",
    "print()\n",
    "print(\"Devtest Comparison\")\n",
    "print(\"Old Classifier: \", accuracy_score([r for w, r in devtest], lr_classifier.predict(tfidf_devtest)))\n",
    "print(\"New Classifier: \", accuracy_score([r for w, r in devtest], lr_classifier_sent.predict(final_devtest)))\n",
    "\n",
    "print()\n",
    "print(\"Test Comparison\")\n",
    "print(\"Old Classifier: \", accuracy_score([r for w, r in test], lr_classifier.predict(tfidf_test)))\n",
    "print(\"New Classifier: \", accuracy_score([r for w, r in test], lr_classifier_sent.predict(final_test)))"
   ]
  },
  {
   "cell_type": "markdown",
   "metadata": {},
   "source": [
    "Having a look at the classifcation report, and the comparison of the accuracy between the two classifiers, there doesn't appear to be much improvement on the classifier. There is slight improvement in the accuracy but not enough to be a much better improvement."
   ]
  },
  {
   "cell_type": "markdown",
   "metadata": {},
   "source": [
    "### 5. Final Conclusions and Possible Improvements"
   ]
  },
  {
   "cell_type": "markdown",
   "metadata": {},
   "source": [
    "Adding in the semtiment value of the reviews did not improve the classifiers. I thought the sentiment might of helped with the lack of words in a review, since it would help give a rounded score on what the review could of been. It also would of helped to pick out the reviews which seemed neutral but were actually 5 stars.\n",
    "\n",
    "An improvment that could help the classifier is that it might be beneficial to look at the sentiment value of bigrams or trigrams in the review, and only keeping the ones with a high low score to help look at the laguage that actually makes the review positive or negative, eliminating all the filler words with sentiment values hanging around 0."
   ]
  },
  {
   "cell_type": "markdown",
   "metadata": {},
   "source": [
    "# Submission of Results\n",
    "\n",
    "Your submission should consist of this Jupyter notebook with all your code and explanations inserted in the notebook. The notebook should contain the output of the runs so that it can be read by the assessor without needing to run the code.\n",
    "\n",
    "Examine this notebook so that you can have an idea of how to format text for good visual impact. You can also read this useful [guide to the markdown notation](http://daringfireball.net/projects/markdown/syntax), which explains the format of the text.\n",
    "\n",
    "Late submissions will have a penalty of **4 marks deduction per day late**.\n",
    "\n",
    "Each question specifies a mark. The final mark of the assignment is the sum of all the individual marks, after applying any deductions for late submission.\n",
    "\n",
    "By submitting this assignment you are acknowledging that this is your own work. Any submissions that break the code of academic honesty will be penalised as per the [academic honesty policy](https://staff.mq.edu.au/work/strategy-planning-and-governance/university-policies-and-procedures/policies/academic-honesty)."
   ]
  }
 ],
 "metadata": {
  "kernelspec": {
   "display_name": "Python 3",
   "language": "python",
   "name": "python3"
  },
  "language_info": {
   "codemirror_mode": {
    "name": "ipython",
    "version": 3
   },
   "file_extension": ".py",
   "mimetype": "text/x-python",
   "name": "python",
   "nbconvert_exporter": "python",
   "pygments_lexer": "ipython3",
   "version": "3.6.1"
  }
 },
 "nbformat": 4,
 "nbformat_minor": 2
}
